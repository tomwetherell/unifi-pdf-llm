{
 "cells": [
  {
   "cell_type": "code",
   "execution_count": 1,
   "metadata": {},
   "outputs": [],
   "source": [
    "from openai import OpenAI\n",
    "\n",
    "client = OpenAI()"
   ]
  },
  {
   "cell_type": "code",
   "execution_count": 2,
   "metadata": {},
   "outputs": [
    {
     "name": "stdout",
     "output_type": "stream",
     "text": [
      "Looking at the first table, the Percentage of female Board members in 2021 is explicitly stated as 20%. Therefore, '20' is indeed the correct answer to the question: \"What was the Percentage of female Board members in 2021?\"\n",
      "\n",
      "Conclusion: Yes\n"
     ]
    }
   ],
   "source": [
    "PROMPT = f\"\"\"\n",
    "Consider the following markdown tables:\n",
    "\n",
    " |                                    | Unit of measure   |   2021 |   2020 |   2019 |   2018 |\n",
    "|------------------------------------|-------------------|--------|--------|--------|--------|\n",
    "| Female Board members               | number            |      2 |      1 |      2 |    5   |\n",
    "| Percentage of female Board members | %                 |     20 |     10 |     20 |   45.5 |\n",
    "\n",
    "|                                         | Unit of measure   |   2021 |   2020 |   2019 |   2018 |\n",
    "|-----------------------------------------|-------------------|--------|--------|--------|--------|\n",
    "| Independent Board members               | number            |      7 |      7 |      7 |    7   |\n",
    "| Percentage of independent Board members | %                 |     70 |     70 |     70 |   63.6 |\n",
    "\n",
    "|                                              | Unit of measure   |   2021 |   2020 |   2019 |   2018 |\n",
    "|----------------------------------------------|-------------------|--------|--------|--------|--------|\n",
    "| Percentage of female Board members           | %                 |     20 |   10   |  20    |  45.5  |\n",
    "| Average length of executive director service | years             |      2 |    0.9 |   0.12 |  17.76 |\n",
    "\n",
    "Are you sure that '20' is the correct answer to the question: \"What was the Percentage of female Board members in 2021?\"?\n",
    "\n",
    "It is possible that the answer is not explicitly stated in the context.\n",
    "\n",
    "Think step by step. Please conclude your answer with a 'yes' or 'no'.\n",
    "\n",
    "Answer:\n",
    "\"\"\"\n",
    "\n",
    "response = client.chat.completions.create(\n",
    "  model=\"gpt-3.5-turbo\",\n",
    "  messages=[\n",
    "    {\"role\": \"system\", \"content\": \"You are an expert at reading markdown tables\"},\n",
    "    {\"role\": \"user\", \"content\": PROMPT},\n",
    "  ],\n",
    "  temperature=0.01\n",
    ")\n",
    "\n",
    "print(response.choices[0].message.content)"
   ]
  },
  {
   "cell_type": "code",
   "execution_count": 3,
   "metadata": {},
   "outputs": [
    {
     "name": "stdout",
     "output_type": "stream",
     "text": [
      "Based on the provided markdown tables, the number '945' corresponds to the \"Days lost due to LTI - employees and contractors\" in 2021, not the \"Number of Compensation for Occupational Injuries and Diseases (COID) lost time for employees in 2021.\" \n",
      "\n",
      "Therefore, the correct answer to the question regarding the Number of Compensation for Occupational Injuries and Diseases (COID) lost time for employees in 2021 is not explicitly stated in the context.\n",
      "\n",
      "Conclusion: No\n"
     ]
    }
   ],
   "source": [
    "PROMPT = f\"\"\"\n",
    "Consider the following markdown tables:\n",
    "\n",
    "|                                                                                                                                  | Unit of measure   | 2021   | 2020   | 2019   | 2018   |\n",
    "|----------------------------------------------------------------------------------------------------------------------------------|-------------------|--------|--------|--------|--------|\n",
    "| Medical treatment cases (MTCs, i.e. injuries on duty leading to medical treatment, but no lost days) - employees and contractors | number            | 365    | 405    | 544    | 608    |\n",
    "| Lost time injuries (LTIs, i.e. injuries on duty leading to at least one                                                          |                   |        |        |        |        |\n",
    "\n",
    "|                                                                         | Unit of measure   | 2021   | 2020   | 2019   | 2018   |\n",
    "|-------------------------------------------------------------------------|-------------------|--------|--------|--------|--------|\n",
    "| Lost time injuries (LTIs, i.e. injuries on duty leading to at least one |                   |        |        |        |        |\n",
    "| lost day) - employees and contractors                                   | number            | 36     | 42     | 42     | 39     |\n",
    "\n",
    "|                                                               | Unit of measure   | 2021   | 2020   | 2019   | 2018   |\n",
    "|---------------------------------------------------------------|-------------------|--------|--------|--------|--------|\n",
    "| Days lost due to LTI - employees and contractors              | number            | 945    | 946    | 825    | 889    |\n",
    "| Total number of recordable Injuries, including MTCs, LTIs and |                   |        |        |        |        |\n",
    "\n",
    "Are you sure that '945' is the correct answer to the question: \"What was the Number of Compensation for Occupational Injuries and Diseases (COID) lost time for employees in 2021?\"?\n",
    "\n",
    "It is possible that the answer is not explicitly stated in the context.\n",
    "\n",
    "Think step by step. Please conclude your answer with a 'yes' or 'no'.\n",
    "\n",
    "Answer:\n",
    "\"\"\"\n",
    "\n",
    "response = client.chat.completions.create(\n",
    "  model=\"gpt-3.5-turbo\",\n",
    "  messages=[\n",
    "    {\"role\": \"system\", \"content\": \"You are an expert at reading markdown tables\"},\n",
    "    {\"role\": \"user\", \"content\": PROMPT},\n",
    "  ],\n",
    "  temperature=0.01\n",
    ")\n",
    "\n",
    "print(response.choices[0].message.content)"
   ]
  },
  {
   "cell_type": "code",
   "execution_count": 4,
   "metadata": {},
   "outputs": [],
   "source": [
    "# TODO: Test more."
   ]
  },
  {
   "cell_type": "code",
   "execution_count": null,
   "metadata": {},
   "outputs": [],
   "source": []
  }
 ],
 "metadata": {
  "kernelspec": {
   "display_name": "haystack",
   "language": "python",
   "name": "python3"
  },
  "language_info": {
   "codemirror_mode": {
    "name": "ipython",
    "version": 3
   },
   "file_extension": ".py",
   "mimetype": "text/x-python",
   "name": "python",
   "nbconvert_exporter": "python",
   "pygments_lexer": "ipython3",
   "version": "3.10.13"
  }
 },
 "nbformat": 4,
 "nbformat_minor": 2
}
