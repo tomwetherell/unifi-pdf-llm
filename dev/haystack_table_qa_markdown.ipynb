{
 "cells": [
  {
   "cell_type": "code",
   "execution_count": 3,
   "metadata": {},
   "outputs": [
    {
     "name": "stderr",
     "output_type": "stream",
     "text": [
      "/home/tomw/miniconda3/envs/haystack/lib/python3.10/site-packages/tqdm/auto.py:21: TqdmWarning: IProgress not found. Please update jupyter and ipywidgets. See https://ipywidgets.readthedocs.io/en/stable/user_install.html\n",
      "  from .autonotebook import tqdm as notebook_tqdm\n",
      "/home/tomw/miniconda3/envs/haystack/lib/python3.10/site-packages/transformers/utils/generic.py:441: UserWarning: torch.utils._pytree._register_pytree_node is deprecated. Please use torch.utils._pytree.register_pytree_node instead.\n",
      "  _torch_pytree._register_pytree_node(\n",
      "/home/tomw/miniconda3/envs/haystack/lib/python3.10/site-packages/transformers/utils/generic.py:309: UserWarning: torch.utils._pytree._register_pytree_node is deprecated. Please use torch.utils._pytree.register_pytree_node instead.\n",
      "  _torch_pytree._register_pytree_node(\n",
      "/home/tomw/miniconda3/envs/haystack/lib/python3.10/site-packages/transformers/utils/generic.py:309: UserWarning: torch.utils._pytree._register_pytree_node is deprecated. Please use torch.utils._pytree.register_pytree_node instead.\n",
      "  _torch_pytree._register_pytree_node(\n",
      "/home/tomw/miniconda3/envs/haystack/lib/python3.10/site-packages/transformers/utils/generic.py:309: UserWarning: torch.utils._pytree._register_pytree_node is deprecated. Please use torch.utils._pytree.register_pytree_node instead.\n",
      "  _torch_pytree._register_pytree_node(\n"
     ]
    }
   ],
   "source": [
    "\"\"\"\n",
    "Table QA - RAG approach with tables converted to markdown format.\n",
    "\n",
    "See https://haystack.deepset.ai/tutorials/22_pipeline_with_promptnode\n",
    "\"\"\"\n",
    "import os\n",
    "from pathlib import Path\n",
    "\n",
    "from haystack import Document\n",
    "from haystack.nodes import AzureConverter, EmbeddingRetriever, PromptNode, PromptTemplate, AnswerParser\n",
    "from haystack.document_stores import InMemoryDocumentStore\n",
    "from haystack.pipelines import Pipeline\n",
    "from haystack.utils import print_answers\n",
    "\n",
    "OPENAI_API_KEY = os.environ.get(\"OPENAI_API_KEY\")\n",
    "AZURE_CONVERTER_KEY = os.environ.get(\"AZURE_CONVERTER_KEY\")"
   ]
  },
  {
   "cell_type": "code",
   "execution_count": 4,
   "metadata": {},
   "outputs": [],
   "source": [
    "def convert_validation_pdf():\n",
    "    converted_docs = []\n",
    "    file_path = Path(\"/home/tomw/unifi-pdf-llm/data/validate/SASOL Sustainability Report 2023 20-09_0_minimal_split\")\n",
    "\n",
    "    converter = AzureConverter(\n",
    "        endpoint=\"https://azureconverter.cognitiveservices.azure.com/\",\n",
    "        credential_key=AZURE_CONVERTER_KEY,\n",
    "        model_id=\"prebuilt-layout\",  # Was \"prebuilt-document\"\n",
    "        save_json=False\n",
    "    )\n",
    "\n",
    "    for fn in file_path.glob(\"*.pdf\"):\n",
    "        print(f\"Converting {fn}\")\n",
    "        docs = converter.convert(file_path=fn, meta=None)\n",
    "        converted_docs.extend(docs)\n",
    "\n",
    "    return converted_docs"
   ]
  },
  {
   "cell_type": "code",
   "execution_count": 5,
   "metadata": {},
   "outputs": [
    {
     "name": "stdout",
     "output_type": "stream",
     "text": [
      "Converting /home/tomw/unifi-pdf-llm/data/validate/SASOL Sustainability Report 2023 20-09_0_minimal_split/SASOL Sustainability Report 2023 20-09_0_minimal [1-2].pdf\n",
      "Converting /home/tomw/unifi-pdf-llm/data/validate/SASOL Sustainability Report 2023 20-09_0_minimal_split/SASOL Sustainability Report 2023 20-09_0_minimal [11].pdf\n",
      "Converting /home/tomw/unifi-pdf-llm/data/validate/SASOL Sustainability Report 2023 20-09_0_minimal_split/SASOL Sustainability Report 2023 20-09_0_minimal [5-6].pdf\n",
      "Converting /home/tomw/unifi-pdf-llm/data/validate/SASOL Sustainability Report 2023 20-09_0_minimal_split/SASOL Sustainability Report 2023 20-09_0_minimal [7-8].pdf\n",
      "Converting /home/tomw/unifi-pdf-llm/data/validate/SASOL Sustainability Report 2023 20-09_0_minimal_split/SASOL Sustainability Report 2023 20-09_0_minimal [3-4].pdf\n",
      "Converting /home/tomw/unifi-pdf-llm/data/validate/SASOL Sustainability Report 2023 20-09_0_minimal_split/SASOL Sustainability Report 2023 20-09_0_minimal [9-10].pdf\n"
     ]
    }
   ],
   "source": [
    "docs = convert_validation_pdf()"
   ]
  },
  {
   "cell_type": "code",
   "execution_count": 6,
   "metadata": {},
   "outputs": [],
   "source": [
    "# converter = AzureConverter(\n",
    "#     endpoint=\"https://azureconverter.cognitiveservices.azure.com/\",\n",
    "#     credential_key=AZURE_CONVERTER_KEY,\n",
    "#     model_id=\"prebuilt-layout\",  # Was \"prebuilt-document\"\n",
    "#     save_json=False\n",
    "# )\n",
    "\n",
    "# PDF_PATH = Path(\"/home/tomw/unifi-pdf-llm/data/validate/SASOL Sustainability Report 2023 20-09_0_minimal.pdf\")\n",
    "\n",
    "# docs = converter.convert(file_path=PDF_PATH, meta=None)"
   ]
  },
  {
   "cell_type": "code",
   "execution_count": null,
   "metadata": {},
   "outputs": [],
   "source": [
    "# TODO: Implement way to save docs to disk and load them back in. Would be good to do at this\n",
    "# stage (before loaded into a document store), so it's possible to experiment with the\n",
    "# indexing pipeline without having to re-convert the PDFs."
   ]
  },
  {
   "cell_type": "code",
   "execution_count": 8,
   "metadata": {},
   "outputs": [
    {
     "name": "stdout",
     "output_type": "stream",
     "text": [
      "Number of documents: 23\n"
     ]
    }
   ],
   "source": [
    "print(f'Number of documents: {len(docs)}')"
   ]
  },
  {
   "cell_type": "code",
   "execution_count": 9,
   "metadata": {},
   "outputs": [],
   "source": [
    "def split_tables(docs: list[Document], window_size: int=5):\n",
    "    \"\"\"\n",
    "    Return a list of documents, each containing text or a smaller table.\n",
    "\n",
    "    Parameters\n",
    "    ----------\n",
    "    docs : list[Document]\n",
    "        List of documents.\n",
    "\n",
    "    window_size : int\n",
    "        The size of the sliding window to use when splitting tables.\n",
    "\n",
    "    Returns\n",
    "    -------\n",
    "    new_docs : list[Document]\n",
    "        List of documents, each containing text or a smaller table.\n",
    "    \"\"\"\n",
    "    new_docs = []\n",
    "\n",
    "    for doc in docs:\n",
    "        if doc.content_type == \"table\":\n",
    "            new_docs.extend(_split_table(doc, window_size))\n",
    "        else:\n",
    "            new_docs.append(doc)\n",
    "\n",
    "    return new_docs\n",
    "\n",
    "\n",
    "def _split_table(doc, window_size=5):\n",
    "    \"\"\"\n",
    "    Split a table into smaller tables using a sliding window approach.\n",
    "\n",
    "    Parameters\n",
    "    ----------\n",
    "    doc : Document\n",
    "        The document containing the table to split.\n",
    "\n",
    "    window_size : int\n",
    "        The size of the sliding window.\n",
    "\n",
    "    Returns\n",
    "    -------\n",
    "    docs : list[Document]\n",
    "        A list of documents, each one containing a smaller table.\n",
    "\n",
    "    Raises\n",
    "    ------\n",
    "    ValueError\n",
    "        If the document does not contain a table.\n",
    "    \"\"\"\n",
    "    if doc.content_type != \"table\":\n",
    "        raise ValueError(\"The document does not contain a table.\")\n",
    "\n",
    "    tables = _sliding_window(doc.content, window_size)\n",
    "    docs = []\n",
    "    for table in tables:\n",
    "        new_doc = Document(content=table)\n",
    "        for attr, value in doc.__dict__.items():\n",
    "            if attr not in [\"content\", \"id\"]:\n",
    "                setattr(new_doc, attr, value)\n",
    "        docs.append(new_doc)\n",
    "\n",
    "    return docs\n",
    "\n",
    "\n",
    "def _sliding_window(df, window_size):\n",
    "    \"\"\"\n",
    "    Split a DataFrame into smaller DataFrames using a sliding window approach.\n",
    "\n",
    "    Parameters\n",
    "    ----------\n",
    "    df : pandas.DataFrame\n",
    "        The DataFrame to split.\n",
    "\n",
    "    window_size : int\n",
    "        The size of the sliding window.\n",
    "\n",
    "    Returns\n",
    "    -------\n",
    "    list of pandas.DataFrame\n",
    "        A list of DataFrames, each one representing a window of the original DataFrame.\n",
    "    \"\"\"\n",
    "    tables = [df.iloc[i:i+window_size] for i in range(len(df) - window_size + 1)]\n",
    "\n",
    "    return tables\n"
   ]
  },
  {
   "cell_type": "code",
   "execution_count": 10,
   "metadata": {},
   "outputs": [
    {
     "name": "stdout",
     "output_type": "stream",
     "text": [
      "Number of documents: 738\n"
     ]
    }
   ],
   "source": [
    "docs = split_tables(docs)\n",
    "\n",
    "print(f\"Number of documents: {len(docs)}\")"
   ]
  },
  {
   "cell_type": "code",
   "execution_count": 11,
   "metadata": {},
   "outputs": [],
   "source": [
    "def convert_tables_to_markdown(docs: list[Document]) -> None:\n",
    "    \"\"\"\n",
    "    Convert tables to markdown format in place.\n",
    "\n",
    "    Parameters\n",
    "    ----------\n",
    "    docs : List[Document]\n",
    "        List of Documents with `content_type` table.\n",
    "    \"\"\"\n",
    "    for doc in docs:\n",
    "        if doc.content_type == \"table\":\n",
    "            _convert_table_to_markdown(doc)\n",
    "\n",
    "\n",
    "def _convert_table_to_markdown(doc: Document) -> None:\n",
    "    \"\"\"\n",
    "    Convert table to markdown format in place.\n",
    "\n",
    "    Parameters\n",
    "    ----------\n",
    "    doc : Document\n",
    "        Document with `content_type` table.\n",
    "\n",
    "    Raises\n",
    "    ------\n",
    "    ValueError\n",
    "        If `doc.content_type` is not \"table\".\n",
    "    \"\"\"\n",
    "    if doc.content_type != \"table\":\n",
    "        raise ValueError(f\"Document content_type must be 'table', not '{doc.content_type}'\")\n",
    "\n",
    "    table = doc.content\n",
    "    markdown_table = table.to_markdown(tablefmt=\"github\")\n",
    "\n",
    "    doc.content = markdown_table\n",
    "    doc.content_type = \"text\""
   ]
  },
  {
   "cell_type": "code",
   "execution_count": 12,
   "metadata": {},
   "outputs": [],
   "source": [
    "convert_tables_to_markdown(docs)"
   ]
  },
  {
   "cell_type": "code",
   "execution_count": 13,
   "metadata": {},
   "outputs": [],
   "source": [
    "# TODO: Try to use other document stores (e.g. FAISS).\n",
    "\n",
    "document_store = InMemoryDocumentStore(embedding_dim=384)\n",
    "\n",
    "document_store.delete_documents()\n",
    "document_store.write_documents(docs)"
   ]
  },
  {
   "cell_type": "code",
   "execution_count": 14,
   "metadata": {},
   "outputs": [
    {
     "name": "stderr",
     "output_type": "stream",
     "text": [
      "Batches: 100%|██████████| 24/24 [00:02<00:00, 11.96it/s]ocs/s]\n",
      "Documents Processed: 10000 docs [00:02, 4899.03 docs/s]        \n"
     ]
    }
   ],
   "source": [
    "# TODO: I'm not sure what OpenAI embedding models are available. Is it possible to use\n",
    "# their newest embedding models in Haystack v1?\n",
    "\n",
    "# TODO: Look into other (non-OpenAI) embedding models that can be used with Haystack v1.\n",
    "\n",
    "retriever = EmbeddingRetriever(\n",
    "    embedding_model=\"sentence-transformers/all-MiniLM-L6-v2\", document_store=document_store\n",
    ")\n",
    "\n",
    "document_store.update_embeddings(retriever=retriever)"
   ]
  },
  {
   "cell_type": "code",
   "execution_count": 23,
   "metadata": {},
   "outputs": [
    {
     "name": "stderr",
     "output_type": "stream",
     "text": [
      "Batches: 100%|██████████| 1/1 [00:00<00:00, 34.78it/s]"
     ]
    },
    {
     "name": "stdout",
     "output_type": "stream",
     "text": [
      "|    | Natural Capital - Our environment   | 2023   | 2022   | 2021   | 2020   | LoA 2023   | Footnote   |\n",
      "|----|-------------------------------------|--------|--------|--------|--------|------------|------------|\n",
      "|  2 | North America                       | 0.82   | 0,83   | 0,74   | 0,59   |            |            |\n",
      "|  3 | Chemicals Africa                    |        |        |        |        |            |            |\n",
      "|  4 | Atmospheric emissions (kilotons)    |        |        |        |        |            |            |\n",
      "|  5 | Nitrogen oxides (NOx) (kilotons)    | 122,04 | 118,70 | 124,00 | 143,60 | Reasonable |            |\n",
      "|  6 | ENERGY                              | 120,52 | 117,20 | 122,30 | 141,50 |            |            |\n"
     ]
    },
    {
     "name": "stderr",
     "output_type": "stream",
     "text": [
      "\n"
     ]
    }
   ],
   "source": [
    "# Testing the retriever\n",
    "\n",
    "# Try the Retriever\n",
    "retrieved_tables = retriever.retrieve(\"What was the GHG Scope 1 emissions in the year 2021?\", top_k=3)\n",
    "\n",
    "# Get highest scored table\n",
    "print(retrieved_tables[2].content)"
   ]
  },
  {
   "cell_type": "code",
   "execution_count": 153,
   "metadata": {},
   "outputs": [],
   "source": [
    "rag_prompt = PromptTemplate(\n",
    "    prompt=\"\"\"Use the following pieces of context to answer the question at the end.\n",
    "              The context may be text or a markdown table.\n",
    "              Just retrieve the answer from the context. Please don't do any unit conversion.\n",
    "              If you don't know the answer, please return 'None' for the answer and unit.\n",
    "              Please return the answer in the format 'Answer: <number or None>, Unit: <unit or None>'.\n",
    "\n",
    "              \\n\\n Context: {join(documents)} \\n\\n Question: {query} \\n\\n Answer:\"\"\",\n",
    "    output_parser=AnswerParser(),\n",
    ")\n",
    "\n",
    "prompt_node = PromptNode(\n",
    "    model_name_or_path=\"gpt-3.5-turbo-1106\",\n",
    "    api_key=OPENAI_API_KEY,\n",
    "    default_prompt_template=rag_prompt,\n",
    "    model_kwargs={\"temperature\": 0}  # It doesn't seem that the `temperature` parameter is having any effect. Seems like a bug. Might work in haystack 2.0.\n",
    ")"
   ]
  },
  {
   "cell_type": "code",
   "execution_count": 154,
   "metadata": {},
   "outputs": [],
   "source": [
    "# TODO: How to specify the number of documents retrieved by the retriever to use in the prompt?\n",
    "\n",
    "querying_pipeline = Pipeline()\n",
    "querying_pipeline.add_node(component=retriever, name=\"retriever\", inputs=[\"Query\"])\n",
    "querying_pipeline.add_node(component=prompt_node, name=\"prompt_node\", inputs=[\"retriever\"])"
   ]
  },
  {
   "cell_type": "code",
   "execution_count": 164,
   "metadata": {},
   "outputs": [
    {
     "name": "stderr",
     "output_type": "stream",
     "text": [
      "Batches: 100%|██████████| 1/1 [00:00<00:00, 29.87it/s]\n"
     ]
    },
    {
     "name": "stdout",
     "output_type": "stream",
     "text": [
      "Answer: 66 273, Unit: kilotons\n"
     ]
    }
   ],
   "source": [
    "output = querying_pipeline.run(query=\"What was the GHG Scope 1 emissions in the year 2021?\")\n",
    "\n",
    "print(output[\"answers\"][0].answer)"
   ]
  },
  {
   "cell_type": "code",
   "execution_count": 161,
   "metadata": {},
   "outputs": [
    {
     "name": "stderr",
     "output_type": "stream",
     "text": [
      "Batches: 100%|██████████| 1/1 [00:00<00:00, 40.77it/s]\n"
     ]
    },
    {
     "name": "stdout",
     "output_type": "stream",
     "text": [
      "Answer: 643, Unit: kilotons\n"
     ]
    }
   ],
   "source": [
    "output = querying_pipeline.run(query=\"What was the GHG Scope 1 emissions in the year 2023?  Please give your answer in the unit kilotons.\")\n",
    "\n",
    "print(output[\"answers\"][0].answer)"
   ]
  },
  {
   "cell_type": "markdown",
   "metadata": {},
   "source": [
    "The `gpt-3.5-turbo` model has a context window of 4,096 tokens. As a result, my prompt is often\n",
    "being truncated so that the prompt length and answer length (100 tokens) fit within the max token\n",
    "limit. The updated GPT-3.5 model (`gpt-3.5-turbo-0125`) has a larger context window of \n",
    "16,385 tokens. Would be good to use this, if possible (may require using haystack 2.0)\n",
    "The slightly older GPT-3.5 model `gpt-3.5-turbo-1106` has a larger context window and is available \n",
    "with haystack 1.0. I'll use this for now."
   ]
  },
  {
   "cell_type": "code",
   "execution_count": 166,
   "metadata": {},
   "outputs": [
    {
     "name": "stderr",
     "output_type": "stream",
     "text": [
      "Batches: 100%|██████████| 1/1 [00:00<00:00, 65.52it/s]\n"
     ]
    },
    {
     "name": "stdout",
     "output_type": "stream",
     "text": [
      "Answer: 64 392, Unit: kilotons\n"
     ]
    }
   ],
   "source": [
    "output = querying_pipeline.run(query=\"What was the GHG Scope 3 emissions in the year 2023?\")\n",
    "\n",
    "print(output[\"answers\"][0].answer)"
   ]
  },
  {
   "cell_type": "markdown",
   "metadata": {},
   "source": [
    "Working very well. Only issue I have seen so far is not being able to answer \"What was the \n",
    "GHG Scope 2 emissions in the year 2021?\". "
   ]
  },
  {
   "cell_type": "markdown",
   "metadata": {},
   "source": [
    "**TODO:** Add to querying pipeline a step to parse the returned output 'Answer: <>, Unit: <>'\n",
    "to a single number. For cases where 'Unit' is not `None`, this will likely involve another\n",
    "`PromptNode` to do the conversion."
   ]
  },
  {
   "cell_type": "markdown",
   "metadata": {},
   "source": [
    "## Validation"
   ]
  },
  {
   "cell_type": "code",
   "execution_count": 167,
   "metadata": {},
   "outputs": [],
   "source": [
    "import pandas as pd\n",
    "\n",
    "VALIDATION_FILE = Path(\"/home/tomw/unifi-pdf-llm/data/validate/rag_esg_metric_validation.csv\")"
   ]
  },
  {
   "cell_type": "code",
   "execution_count": 174,
   "metadata": {},
   "outputs": [],
   "source": [
    "def validate_rag(querying_pipeline: Pipeline):\n",
    "    validation_df = pd.read_csv(VALIDATION_FILE)\n",
    "    results_df = validation_df.copy(deep=True)\n",
    "\n",
    "    # Add row to results_df for the generated answer\n",
    "    results_df[\"Generated\"] = None\n",
    "\n",
    "    for idx, row in validation_df.iterrows():\n",
    "        year = row[\"Year\"]\n",
    "        metric = row[\"Metric\"]\n",
    "        unit = row[\"Unit\"]\n",
    "\n",
    "        # if unit is not None:\n",
    "        #     query = f\"What was the {metric} in the year {year}?\"\n",
    "        # else:\n",
    "        #     query = f\"What was the {metric} in the year {year}? Please give your answer in the unit {unit}.\"\n",
    "\n",
    "        query = f\"What was the {metric} in the year {year}?\"\n",
    "\n",
    "        output = querying_pipeline.run(query=query)\n",
    "        answer = output[\"answers\"][0].answer\n",
    "\n",
    "        results_df.at[idx, \"Generated\"] = answer\n",
    "\n",
    "    return results_df\n"
   ]
  },
  {
   "cell_type": "code",
   "execution_count": 175,
   "metadata": {},
   "outputs": [
    {
     "name": "stderr",
     "output_type": "stream",
     "text": [
      "Batches: 100%|██████████| 1/1 [00:00<00:00, 26.72it/s]\n",
      "Batches: 100%|██████████| 1/1 [00:00<00:00, 29.15it/s]\n",
      "Batches: 100%|██████████| 1/1 [00:00<00:00, 76.16it/s]\n",
      "Batches: 100%|██████████| 1/1 [00:00<00:00, 118.09it/s]\n",
      "Batches: 100%|██████████| 1/1 [00:00<00:00, 103.63it/s]\n",
      "Batches: 100%|██████████| 1/1 [00:00<00:00, 76.35it/s]\n",
      "Batches: 100%|██████████| 1/1 [00:00<00:00, 105.71it/s]\n",
      "Batches: 100%|██████████| 1/1 [00:00<00:00, 94.05it/s]\n",
      "Batches: 100%|██████████| 1/1 [00:00<00:00, 95.26it/s]\n",
      "Batches: 100%|██████████| 1/1 [00:00<00:00, 88.01it/s]\n",
      "Batches: 100%|██████████| 1/1 [00:00<00:00, 56.27it/s]\n",
      "Batches: 100%|██████████| 1/1 [00:00<00:00, 76.61it/s]\n",
      "Batches: 100%|██████████| 1/1 [00:00<00:00, 149.13it/s]\n",
      "Batches: 100%|██████████| 1/1 [00:00<00:00, 105.78it/s]\n",
      "Batches: 100%|██████████| 1/1 [00:00<00:00, 19.25it/s]\n",
      "Batches: 100%|██████████| 1/1 [00:00<00:00, 72.99it/s]\n"
     ]
    }
   ],
   "source": [
    "results = validate_rag(querying_pipeline)"
   ]
  },
  {
   "cell_type": "code",
   "execution_count": 176,
   "metadata": {},
   "outputs": [
    {
     "data": {
      "text/html": [
       "<div>\n",
       "<style scoped>\n",
       "    .dataframe tbody tr th:only-of-type {\n",
       "        vertical-align: middle;\n",
       "    }\n",
       "\n",
       "    .dataframe tbody tr th {\n",
       "        vertical-align: top;\n",
       "    }\n",
       "\n",
       "    .dataframe thead th {\n",
       "        text-align: right;\n",
       "    }\n",
       "</style>\n",
       "<table border=\"1\" class=\"dataframe\">\n",
       "  <thead>\n",
       "    <tr style=\"text-align: right;\">\n",
       "      <th></th>\n",
       "      <th>Company</th>\n",
       "      <th>Year</th>\n",
       "      <th>Metric</th>\n",
       "      <th>Unit</th>\n",
       "      <th>Answer</th>\n",
       "      <th>Source</th>\n",
       "      <th>Content Type</th>\n",
       "      <th>Page</th>\n",
       "      <th>Notes</th>\n",
       "      <th>Generated</th>\n",
       "    </tr>\n",
       "  </thead>\n",
       "  <tbody>\n",
       "    <tr>\n",
       "      <th>0</th>\n",
       "      <td>SASOL</td>\n",
       "      <td>2023</td>\n",
       "      <td>Number of permanent employees</td>\n",
       "      <td>NaN</td>\n",
       "      <td>28657</td>\n",
       "      <td>SASOL Sustainability Report 2023 20-09_0.pdf</td>\n",
       "      <td>Table</td>\n",
       "      <td>17</td>\n",
       "      <td>May get confuesed with employee numbers in tab...</td>\n",
       "      <td>Answer: 28 657, Unit: None</td>\n",
       "    </tr>\n",
       "    <tr>\n",
       "      <th>1</th>\n",
       "      <td>SASOL</td>\n",
       "      <td>2023</td>\n",
       "      <td>Employee turnover</td>\n",
       "      <td>NaN</td>\n",
       "      <td>1725</td>\n",
       "      <td>SASOL Sustainability Report 2023 20-09_0.pdf</td>\n",
       "      <td>Text</td>\n",
       "      <td>18</td>\n",
       "      <td>NaN</td>\n",
       "      <td>Answer: 1 725, Unit: None</td>\n",
       "    </tr>\n",
       "    <tr>\n",
       "      <th>2</th>\n",
       "      <td>SASOL</td>\n",
       "      <td>2023</td>\n",
       "      <td>GHG Scope 1 emissions</td>\n",
       "      <td>kilotons</td>\n",
       "      <td>58644</td>\n",
       "      <td>SASOL Sustainability Report 2023 20-09_0.pdf</td>\n",
       "      <td>Table</td>\n",
       "      <td>40</td>\n",
       "      <td>NaN</td>\n",
       "      <td>Answer: 120.52, Unit: kilotons</td>\n",
       "    </tr>\n",
       "    <tr>\n",
       "      <th>3</th>\n",
       "      <td>SASOL</td>\n",
       "      <td>2023</td>\n",
       "      <td>GHG Scope 2 emissions</td>\n",
       "      <td>kilotons</td>\n",
       "      <td>5748</td>\n",
       "      <td>SASOL Sustainability Report 2023 20-09_0.pdf</td>\n",
       "      <td>Table</td>\n",
       "      <td>40</td>\n",
       "      <td>NaN</td>\n",
       "      <td>Answer: None, Unit: None</td>\n",
       "    </tr>\n",
       "    <tr>\n",
       "      <th>4</th>\n",
       "      <td>SASOL</td>\n",
       "      <td>2023</td>\n",
       "      <td>GHG Scope 3 emissions</td>\n",
       "      <td>kilotons</td>\n",
       "      <td>36664</td>\n",
       "      <td>SASOL Sustainability Report 2023 20-09_0.pdf</td>\n",
       "      <td>Table</td>\n",
       "      <td>40</td>\n",
       "      <td>NaN</td>\n",
       "      <td>Answer: None, Unit: None</td>\n",
       "    </tr>\n",
       "    <tr>\n",
       "      <th>5</th>\n",
       "      <td>SASOL</td>\n",
       "      <td>2022</td>\n",
       "      <td>GHG Scope 1 emissions</td>\n",
       "      <td>kilotons</td>\n",
       "      <td>57284</td>\n",
       "      <td>SASOL Sustainability Report 2023 20-09_0.pdf</td>\n",
       "      <td>Table</td>\n",
       "      <td>40</td>\n",
       "      <td>NaN</td>\n",
       "      <td>Answer: 61 559, Unit: kilotons</td>\n",
       "    </tr>\n",
       "    <tr>\n",
       "      <th>6</th>\n",
       "      <td>SASOL</td>\n",
       "      <td>2022</td>\n",
       "      <td>GHG Scope 2 emissions</td>\n",
       "      <td>kilotons</td>\n",
       "      <td>6607</td>\n",
       "      <td>SASOL Sustainability Report 2023 20-09_0.pdf</td>\n",
       "      <td>Table</td>\n",
       "      <td>40</td>\n",
       "      <td>NaN</td>\n",
       "      <td>Answer: None, Unit: None</td>\n",
       "    </tr>\n",
       "    <tr>\n",
       "      <th>7</th>\n",
       "      <td>SASOL</td>\n",
       "      <td>2023</td>\n",
       "      <td>Air emissions of the following pollutants: (2)...</td>\n",
       "      <td>kilotons</td>\n",
       "      <td>12204</td>\n",
       "      <td>SASOL Sustainability Report 2023 20-09_0.pdf</td>\n",
       "      <td>Table</td>\n",
       "      <td>58</td>\n",
       "      <td>Located elsewhere in pdf</td>\n",
       "      <td>Answer: 122.04, Unit: kilotons</td>\n",
       "    </tr>\n",
       "    <tr>\n",
       "      <th>8</th>\n",
       "      <td>SASOL</td>\n",
       "      <td>2023</td>\n",
       "      <td>Air emissions of the following pollutants: (3)...</td>\n",
       "      <td>kilotons</td>\n",
       "      <td>16688</td>\n",
       "      <td>SASOL Sustainability Report 2023 20-09_0.pdf</td>\n",
       "      <td>Table</td>\n",
       "      <td>58</td>\n",
       "      <td>Located elsewhere in pdf</td>\n",
       "      <td>Answer: None, Unit: None</td>\n",
       "    </tr>\n",
       "    <tr>\n",
       "      <th>9</th>\n",
       "      <td>SASOL</td>\n",
       "      <td>2022</td>\n",
       "      <td>Air emissions of the following pollutants: (3)...</td>\n",
       "      <td>kilotons</td>\n",
       "      <td>16187</td>\n",
       "      <td>SASOL Sustainability Report 2023 20-09_0.pdf</td>\n",
       "      <td>Table</td>\n",
       "      <td>58</td>\n",
       "      <td>Located elsewhere in pdf</td>\n",
       "      <td>Answer: None, Unit: None</td>\n",
       "    </tr>\n",
       "    <tr>\n",
       "      <th>10</th>\n",
       "      <td>SASOL</td>\n",
       "      <td>2023</td>\n",
       "      <td>B-BBEE status</td>\n",
       "      <td>NaN</td>\n",
       "      <td>3</td>\n",
       "      <td>SASOL Sustainability Report 2023 20-09_0.pdf</td>\n",
       "      <td>Table</td>\n",
       "      <td>57</td>\n",
       "      <td>NaN</td>\n",
       "      <td>Answer: Level 3, Unit: None</td>\n",
       "    </tr>\n",
       "    <tr>\n",
       "      <th>11</th>\n",
       "      <td>SASOL</td>\n",
       "      <td>2023</td>\n",
       "      <td>B-BBEE scorecard level</td>\n",
       "      <td>NaN</td>\n",
       "      <td>3</td>\n",
       "      <td>SASOL Sustainability Report 2023 20-09_0.pdf</td>\n",
       "      <td>Table</td>\n",
       "      <td>57</td>\n",
       "      <td>NaN</td>\n",
       "      <td>Answer: Level 3, Unit: None</td>\n",
       "    </tr>\n",
       "    <tr>\n",
       "      <th>12</th>\n",
       "      <td>SASOL</td>\n",
       "      <td>2023</td>\n",
       "      <td>Black women-owned spend</td>\n",
       "      <td>rand</td>\n",
       "      <td>28500000</td>\n",
       "      <td>SASOL Sustainability Report 2023 20-09_0.pdf</td>\n",
       "      <td>Text</td>\n",
       "      <td>11</td>\n",
       "      <td>May be interpreted from table. Requires conver...</td>\n",
       "      <td>Answer: 28 500, Unit: Rm</td>\n",
       "    </tr>\n",
       "    <tr>\n",
       "      <th>13</th>\n",
       "      <td>SASOL</td>\n",
       "      <td>2023</td>\n",
       "      <td>Black-owned spend</td>\n",
       "      <td>rand</td>\n",
       "      <td>41700000</td>\n",
       "      <td>SASOL Sustainability Report 2023 20-09_0.pdf</td>\n",
       "      <td>Text</td>\n",
       "      <td>11</td>\n",
       "      <td>Required conversion from million rand to rand</td>\n",
       "      <td>Answer: 41 700, Unit: Rm</td>\n",
       "    </tr>\n",
       "    <tr>\n",
       "      <th>14</th>\n",
       "      <td>SASOL</td>\n",
       "      <td>2023</td>\n",
       "      <td>Number of fatalities</td>\n",
       "      <td>NaN</td>\n",
       "      <td>2</td>\n",
       "      <td>SASOL Sustainability Report 2023 20-09_0.pdf</td>\n",
       "      <td>Text</td>\n",
       "      <td>11</td>\n",
       "      <td>NaN</td>\n",
       "      <td>Answer: 3, Unit: None</td>\n",
       "    </tr>\n",
       "    <tr>\n",
       "      <th>15</th>\n",
       "      <td>SASOL</td>\n",
       "      <td>2023</td>\n",
       "      <td>Number of undergraduate and postgraduate bursa...</td>\n",
       "      <td>NaN</td>\n",
       "      <td>544</td>\n",
       "      <td>SASOL Sustainability Report 2023 20-09_0.pdf</td>\n",
       "      <td>Text</td>\n",
       "      <td>18</td>\n",
       "      <td>NaN</td>\n",
       "      <td>Answer: 544, Unit: None</td>\n",
       "    </tr>\n",
       "  </tbody>\n",
       "</table>\n",
       "</div>"
      ],
      "text/plain": [
       "   Company  Year                                             Metric      Unit  \\\n",
       "0    SASOL  2023                      Number of permanent employees       NaN   \n",
       "1    SASOL  2023                                  Employee turnover       NaN   \n",
       "2    SASOL  2023                              GHG Scope 1 emissions  kilotons   \n",
       "3    SASOL  2023                             GHG Scope 2 emissions   kilotons   \n",
       "4    SASOL  2023                             GHG Scope 3 emissions   kilotons   \n",
       "5    SASOL  2022                             GHG Scope 1 emissions   kilotons   \n",
       "6    SASOL  2022                              GHG Scope 2 emissions  kilotons   \n",
       "7    SASOL  2023  Air emissions of the following pollutants: (2)...  kilotons   \n",
       "8    SASOL  2023  Air emissions of the following pollutants: (3)...  kilotons   \n",
       "9    SASOL  2022  Air emissions of the following pollutants: (3)...  kilotons   \n",
       "10   SASOL  2023                                      B-BBEE status       NaN   \n",
       "11   SASOL  2023                            B-BBEE scorecard level        NaN   \n",
       "12   SASOL  2023                           Black women-owned spend       rand   \n",
       "13   SASOL  2023                                  Black-owned spend      rand   \n",
       "14   SASOL  2023                               Number of fatalities       NaN   \n",
       "15   SASOL  2023  Number of undergraduate and postgraduate bursa...       NaN   \n",
       "\n",
       "      Answer                                        Source Content Type  Page  \\\n",
       "0      28657  SASOL Sustainability Report 2023 20-09_0.pdf        Table    17   \n",
       "1       1725  SASOL Sustainability Report 2023 20-09_0.pdf         Text    18   \n",
       "2      58644  SASOL Sustainability Report 2023 20-09_0.pdf        Table    40   \n",
       "3       5748  SASOL Sustainability Report 2023 20-09_0.pdf        Table    40   \n",
       "4      36664  SASOL Sustainability Report 2023 20-09_0.pdf        Table    40   \n",
       "5      57284  SASOL Sustainability Report 2023 20-09_0.pdf        Table    40   \n",
       "6       6607  SASOL Sustainability Report 2023 20-09_0.pdf        Table    40   \n",
       "7      12204  SASOL Sustainability Report 2023 20-09_0.pdf        Table    58   \n",
       "8      16688  SASOL Sustainability Report 2023 20-09_0.pdf        Table    58   \n",
       "9      16187  SASOL Sustainability Report 2023 20-09_0.pdf        Table    58   \n",
       "10         3  SASOL Sustainability Report 2023 20-09_0.pdf        Table    57   \n",
       "11         3  SASOL Sustainability Report 2023 20-09_0.pdf        Table    57   \n",
       "12  28500000  SASOL Sustainability Report 2023 20-09_0.pdf         Text    11   \n",
       "13  41700000  SASOL Sustainability Report 2023 20-09_0.pdf         Text    11   \n",
       "14         2  SASOL Sustainability Report 2023 20-09_0.pdf         Text    11   \n",
       "15       544  SASOL Sustainability Report 2023 20-09_0.pdf         Text    18   \n",
       "\n",
       "                                                Notes  \\\n",
       "0   May get confuesed with employee numbers in tab...   \n",
       "1                                                 NaN   \n",
       "2                                                 NaN   \n",
       "3                                                 NaN   \n",
       "4                                                 NaN   \n",
       "5                                                 NaN   \n",
       "6                                                 NaN   \n",
       "7                            Located elsewhere in pdf   \n",
       "8                            Located elsewhere in pdf   \n",
       "9                            Located elsewhere in pdf   \n",
       "10                                                NaN   \n",
       "11                                                NaN   \n",
       "12  May be interpreted from table. Requires conver...   \n",
       "13      Required conversion from million rand to rand   \n",
       "14                                                NaN   \n",
       "15                                                NaN   \n",
       "\n",
       "                         Generated  \n",
       "0       Answer: 28 657, Unit: None  \n",
       "1        Answer: 1 725, Unit: None  \n",
       "2   Answer: 120.52, Unit: kilotons  \n",
       "3         Answer: None, Unit: None  \n",
       "4         Answer: None, Unit: None  \n",
       "5   Answer: 61 559, Unit: kilotons  \n",
       "6         Answer: None, Unit: None  \n",
       "7   Answer: 122.04, Unit: kilotons  \n",
       "8         Answer: None, Unit: None  \n",
       "9         Answer: None, Unit: None  \n",
       "10     Answer: Level 3, Unit: None  \n",
       "11     Answer: Level 3, Unit: None  \n",
       "12        Answer: 28 500, Unit: Rm  \n",
       "13        Answer: 41 700, Unit: Rm  \n",
       "14           Answer: 3, Unit: None  \n",
       "15         Answer: 544, Unit: None  "
      ]
     },
     "execution_count": 176,
     "metadata": {},
     "output_type": "execute_result"
    }
   ],
   "source": [
    "results"
   ]
  },
  {
   "cell_type": "code",
   "execution_count": null,
   "metadata": {},
   "outputs": [],
   "source": []
  }
 ],
 "metadata": {
  "kernelspec": {
   "display_name": "haystack",
   "language": "python",
   "name": "python3"
  },
  "language_info": {
   "codemirror_mode": {
    "name": "ipython",
    "version": 3
   },
   "file_extension": ".py",
   "mimetype": "text/x-python",
   "name": "python",
   "nbconvert_exporter": "python",
   "pygments_lexer": "ipython3",
   "version": "3.10.13"
  }
 },
 "nbformat": 4,
 "nbformat_minor": 2
}
