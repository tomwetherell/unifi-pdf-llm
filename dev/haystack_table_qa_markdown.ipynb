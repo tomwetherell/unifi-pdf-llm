{
 "cells": [
  {
   "cell_type": "code",
   "execution_count": 27,
   "metadata": {},
   "outputs": [],
   "source": [
    "\"\"\"\n",
    "Table QA - RAG approach with tables converted to markdown format.\n",
    "\n",
    "See https://haystack.deepset.ai/tutorials/22_pipeline_with_promptnode\n",
    "\"\"\"\n",
    "import os\n",
    "from pathlib import Path\n",
    "\n",
    "import pandas as pd\n",
    "from haystack import Document\n",
    "from haystack.nodes import AzureConverter, EmbeddingRetriever, PromptNode, PromptTemplate, AnswerParser\n",
    "from haystack.document_stores import InMemoryDocumentStore\n",
    "from haystack.pipelines import Pipeline\n",
    "from haystack.utils import print_answers\n",
    "from haystack.nodes import BaseComponent\n",
    "\n",
    "OPENAI_API_KEY = os.environ.get(\"OPENAI_API_KEY\")\n",
    "AZURE_CONVERTER_KEY = os.environ.get(\"AZURE_CONVERTER_KEY\")"
   ]
  },
  {
   "cell_type": "markdown",
   "metadata": {},
   "source": [
    "## Convert PDF"
   ]
  },
  {
   "cell_type": "code",
   "execution_count": 28,
   "metadata": {},
   "outputs": [],
   "source": [
    "def convert_validation_pdf() -> list[Document]:\n",
    "    \"\"\"\n",
    "    Returns a list of Documents from the validation PDF.\n",
    "\n",
    "    Uses the AzureConverter to convert the PDF to tables and text documents.\n",
    "\n",
    "    Returns\n",
    "    -------\n",
    "    converted_docs : list[Document]\n",
    "        The list of Documents from the validation PDF.\n",
    "    \"\"\"\n",
    "    converted_docs = []\n",
    "    file_path = Path(\"/home/tomw/unifi-pdf-llm/data/validate/SASOL Sustainability Report 2023 20-09_0_minimal_split\")\n",
    "\n",
    "    converter = AzureConverter(\n",
    "        endpoint=\"https://azureconverter.cognitiveservices.azure.com/\",\n",
    "        credential_key=AZURE_CONVERTER_KEY,\n",
    "        model_id=\"prebuilt-layout\",  # Was \"prebuilt-document\"\n",
    "        save_json=True\n",
    "    )\n",
    "\n",
    "    for fn in file_path.glob(\"*.pdf\"):\n",
    "        print(f\"Converting {fn}\")\n",
    "        docs = converter.convert(file_path=fn, meta=None)\n",
    "        converted_docs.extend(docs)\n",
    "\n",
    "    return converted_docs"
   ]
  },
  {
   "cell_type": "code",
   "execution_count": 29,
   "metadata": {},
   "outputs": [],
   "source": [
    "def load_validation_pdf_from_json() -> list[Document]:\n",
    "    \"\"\"\n",
    "    Return a list of Documents from the validation PDF, loaded from JSON files.\n",
    "\n",
    "    Requires AzureConverter to have been run on the PDF and saved the JSON files.\n",
    "\n",
    "    Returns\n",
    "    -------\n",
    "    converted_docs : list[Document]\n",
    "        The list of Documents from the validation PDF.\n",
    "    \"\"\"\n",
    "    converted_docs = []\n",
    "    file_path = Path(\"/home/tomw/unifi-pdf-llm/data/validate/SASOL Sustainability Report 2023 20-09_0_minimal_split\")\n",
    "\n",
    "    converter = AzureConverter(\n",
    "        endpoint=\"https://azureconverter.cognitiveservices.azure.com/\",\n",
    "        credential_key=AZURE_CONVERTER_KEY,\n",
    "        model_id=\"prebuilt-layout\",  # Was \"prebuilt-document\"\n",
    "    )\n",
    "\n",
    "    for fn in file_path.glob(\"*.json\"):\n",
    "        print(f\"Loading {fn}\")\n",
    "        docs = converter.convert_azure_json(file_path=fn)\n",
    "        converted_docs.extend(docs)\n",
    "\n",
    "    return converted_docs"
   ]
  },
  {
   "cell_type": "code",
   "execution_count": 30,
   "metadata": {},
   "outputs": [
    {
     "name": "stdout",
     "output_type": "stream",
     "text": [
      "Loading /home/tomw/unifi-pdf-llm/data/validate/SASOL Sustainability Report 2023 20-09_0_minimal_split/SASOL Sustainability Report 2023 20-09_0_minimal [7-8].json\n",
      "Loading /home/tomw/unifi-pdf-llm/data/validate/SASOL Sustainability Report 2023 20-09_0_minimal_split/SASOL Sustainability Report 2023 20-09_0_minimal [5-6].json\n",
      "Loading /home/tomw/unifi-pdf-llm/data/validate/SASOL Sustainability Report 2023 20-09_0_minimal_split/SASOL Sustainability Report 2023 20-09_0_minimal [11].json\n",
      "Loading /home/tomw/unifi-pdf-llm/data/validate/SASOL Sustainability Report 2023 20-09_0_minimal_split/SASOL Sustainability Report 2023 20-09_0_minimal [3-4].json\n",
      "Loading /home/tomw/unifi-pdf-llm/data/validate/SASOL Sustainability Report 2023 20-09_0_minimal_split/SASOL Sustainability Report 2023 20-09_0_minimal [1-2].json\n",
      "Loading /home/tomw/unifi-pdf-llm/data/validate/SASOL Sustainability Report 2023 20-09_0_minimal_split/SASOL Sustainability Report 2023 20-09_0_minimal [9-10].json\n"
     ]
    }
   ],
   "source": [
    "docs = load_validation_pdf_from_json()"
   ]
  },
  {
   "cell_type": "markdown",
   "metadata": {},
   "source": [
    "## Preprocess Documents"
   ]
  },
  {
   "cell_type": "markdown",
   "metadata": {},
   "source": [
    "**TODO**: Test removing the index from the tables. I don't think it adds much. Could be \n",
    "added as context to each document, and then used to recreate context of row. "
   ]
  },
  {
   "cell_type": "code",
   "execution_count": 35,
   "metadata": {},
   "outputs": [],
   "source": [
    "def preprocess_documents(\n",
    "        docs: list[Document],\n",
    "        window_size: int=5\n",
    "    ) -> list[Document]:\n",
    "    \"\"\"\n",
    "    Preprocess the documents.\n",
    "\n",
    "    Parameters\n",
    "    ----------\n",
    "    docs : list[Document]\n",
    "        The documents to preprocess.\n",
    "\n",
    "    window_size : int\n",
    "        The size of the sliding window used to split the tables.\n",
    "\n",
    "    Returns\n",
    "    -------\n",
    "    docs : list[Document]\n",
    "        The preprocessed documents.\n",
    "    \"\"\"\n",
    "    preprocessed_docs = []\n",
    "\n",
    "    for doc in docs:\n",
    "        if doc.content_type == \"table\":\n",
    "            doc.content = clean_table_column_names(doc.content)\n",
    "            sliced_table_docs = slice_table_document(doc, window_size)\n",
    "            preprocessed_docs.extend(sliced_table_docs)\n",
    "        else:\n",
    "            preprocessed_docs.append(doc)\n",
    "\n",
    "    convert_tables_to_markdown(preprocessed_docs)\n",
    "\n",
    "    return preprocessed_docs\n",
    "\n",
    "\n",
    "def clean_table_column_names(df: pd.DataFrame, replace: str=' - ') -> pd.DataFrame:\n",
    "    \"\"\"\n",
    "    Return a DataFrame with newlines removed from column headers.\n",
    "\n",
    "    Parameters\n",
    "    ----------\n",
    "    df : pd.Dataframe\n",
    "        The DataFrame to clean.\n",
    "\n",
    "    replace: str\n",
    "        The string to replace newlines with.\n",
    "\n",
    "    Returns\n",
    "    -------\n",
    "    df : pd.Dataframe\n",
    "        The dataframe with newlines removed from column headers.\n",
    "    \"\"\"\n",
    "    df.columns = df.columns.str.replace('\\n', replace)\n",
    "    return df\n",
    "\n",
    "\n",
    "def slice_table_document(doc: Document, window_size: int=5) -> list[Document]:\n",
    "    \"\"\"\n",
    "    Return a list of documents, each containing a table with `window_size` rows.\n",
    "\n",
    "    A sliding window approach is used to split the table into smaller tables. The\n",
    "    returned documents have the same metadata as the original document, except for\n",
    "    the content and id.\n",
    "\n",
    "    Parameters\n",
    "    ----------\n",
    "    doc : Document\n",
    "        Document with content_type \"table\".\n",
    "\n",
    "    window_size : int\n",
    "        The size of the sliding window.\n",
    "\n",
    "    Returns\n",
    "    -------\n",
    "    docs : list[Document]\n",
    "        A list of documents, each one containing a table with `window_size` rows.\n",
    "\n",
    "    Raises\n",
    "    ------\n",
    "    ValueError\n",
    "        If the document does not contain a table.\n",
    "    \"\"\"\n",
    "    if doc.content_type != \"table\":\n",
    "        raise ValueError(\"The document does not contain a table.\")\n",
    "\n",
    "    tables = _sliding_window(doc.content, window_size)\n",
    "    docs = []\n",
    "    for table in tables:\n",
    "        new_doc = Document(content=table)\n",
    "        for attr, value in doc.__dict__.items():\n",
    "            if attr not in [\"content\", \"id\"]:\n",
    "                setattr(new_doc, attr, value)\n",
    "        docs.append(new_doc)\n",
    "\n",
    "    return docs\n",
    "\n",
    "\n",
    "def _sliding_window(df: pd.DataFrame, window_size: int) -> list[pd.DataFrame]:\n",
    "    \"\"\"\n",
    "    Return a list of DataFrames, each containing a window of the original DataFrame.\n",
    "\n",
    "    Parameters\n",
    "    ----------\n",
    "    df : pandas.DataFrame\n",
    "        The DataFrame to split.\n",
    "\n",
    "    window_size : int\n",
    "        The size of the sliding window.\n",
    "\n",
    "    Returns\n",
    "    -------\n",
    "    tables : list[pandas.DataFrame]\n",
    "        A list of DataFrames, each containing a window of the original DataFrame.\n",
    "    \"\"\"\n",
    "    tables = [df.iloc[i:i+window_size] for i in range(len(df) - window_size + 1)]\n",
    "\n",
    "    return tables\n",
    "\n",
    "\n",
    "def convert_tables_to_markdown(docs: list[Document]) -> None:\n",
    "    \"\"\"\n",
    "    Convert tables to markdown format in place.\n",
    "\n",
    "    Parameters\n",
    "    ----------\n",
    "    docs : List[Document]\n",
    "        List of Documents, some of which may have `content_type` 'table'.\n",
    "    \"\"\"\n",
    "    for doc in docs:\n",
    "        if doc.content_type == \"table\":\n",
    "            _convert_table_to_markdown(doc)\n",
    "\n",
    "\n",
    "def _convert_table_to_markdown(doc: Document) -> None:\n",
    "    \"\"\"\n",
    "    Convert table to markdown format in place.\n",
    "\n",
    "    Parameters\n",
    "    ----------\n",
    "    doc : Document\n",
    "        Document with `content_type` table.\n",
    "\n",
    "    Raises\n",
    "    ------\n",
    "    ValueError\n",
    "        If `doc.content_type` is not \"table\".\n",
    "    \"\"\"\n",
    "    if doc.content_type != \"table\":\n",
    "        raise ValueError(f\"Document content_type must be 'table', not '{doc.content_type}'\")\n",
    "\n",
    "    table = doc.content\n",
    "    markdown_table = table.to_markdown(tablefmt=\"github\")\n",
    "\n",
    "    doc.content = markdown_table\n",
    "    doc.content_type = \"text\""
   ]
  },
  {
   "cell_type": "code",
   "execution_count": 36,
   "metadata": {},
   "outputs": [
    {
     "name": "stdout",
     "output_type": "stream",
     "text": [
      "Number of documents: 806\n"
     ]
    }
   ],
   "source": [
    "docs = preprocess_documents(docs, window_size=1)\n",
    "\n",
    "print(f\"Number of documents: {len(docs)}\")"
   ]
  },
  {
   "cell_type": "code",
   "execution_count": 37,
   "metadata": {},
   "outputs": [
    {
     "name": "stdout",
     "output_type": "stream",
     "text": [
      "|    | Sasol in Society - Spend   | 2023 - Rm   | 2022 - Rm   | 2021 - Rm   |   2020 - Rm | LOA 2023   | Footnote   |\n",
      "|----|----------------------------|-------------|-------------|-------------|-------------|------------|------------|\n",
      "| 24 | Sasolburg                  | 1 360       | 1 366       | 1 586       |        1440 |            |            |\n"
     ]
    }
   ],
   "source": [
    "print(docs[24].content)"
   ]
  },
  {
   "cell_type": "markdown",
   "metadata": {},
   "source": [
    "## Retrieval Augmented Generation"
   ]
  },
  {
   "cell_type": "code",
   "execution_count": 323,
   "metadata": {},
   "outputs": [],
   "source": [
    "# TODO: Try to use other document stores (e.g. FAISS).\n",
    "\n",
    "document_store = InMemoryDocumentStore(embedding_dim=384)\n",
    "\n",
    "document_store.delete_documents()\n",
    "document_store.write_documents(docs)"
   ]
  },
  {
   "cell_type": "code",
   "execution_count": 324,
   "metadata": {},
   "outputs": [
    {
     "name": "stderr",
     "output_type": "stream",
     "text": [
      "Batches: 100%|██████████| 24/24 [00:00<00:00, 36.29it/s]ocs/s]\n",
      "Documents Processed: 10000 docs [00:00, 14654.23 docs/s]       \n"
     ]
    }
   ],
   "source": [
    "# TODO: I'm not sure what OpenAI embedding models are available. Is it possible to use\n",
    "# their newest embedding models in Haystack v1?\n",
    "\n",
    "# TODO: Look into other (non-OpenAI) embedding models that can be used with Haystack v1.\n",
    "\n",
    "retriever = EmbeddingRetriever(\n",
    "    embedding_model=\"sentence-transformers/all-MiniLM-L6-v2\",\n",
    "    document_store=document_store,\n",
    "    top_k=5\n",
    ")\n",
    "\n",
    "document_store.update_embeddings(retriever=retriever)"
   ]
  },
  {
   "cell_type": "code",
   "execution_count": 325,
   "metadata": {},
   "outputs": [
    {
     "name": "stderr",
     "output_type": "stream",
     "text": [
      "Batches: 100%|██████████| 1/1 [00:00<00:00, 197.29it/s]"
     ]
    },
    {
     "name": "stdout",
     "output_type": "stream",
     "text": [
      "|    | Human Capital - Our people   | 2023   | 2022   | 2021   | 2020   | LoA 2023   | Footnote   |\n",
      "|----|------------------------------|--------|--------|--------|--------|------------|------------|\n",
      "|  1 | Permanent employees          | 28 657 | 28 279 | 28 725 |        |            |            |\n"
     ]
    },
    {
     "name": "stderr",
     "output_type": "stream",
     "text": [
      "\n"
     ]
    }
   ],
   "source": [
    "# Testing the retriever\n",
    "\n",
    "# Try the Retriever\n",
    "retrieved_tables = retriever.retrieve(\"What was the number of permanent employees 2021?\", top_k=3)\n",
    "\n",
    "# Get highest scored table\n",
    "print(retrieved_tables[0].content)"
   ]
  },
  {
   "cell_type": "code",
   "execution_count": 348,
   "metadata": {},
   "outputs": [
    {
     "name": "stderr",
     "output_type": "stream",
     "text": [
      "Batches: 100%|██████████| 1/1 [00:00<00:00, 52.93it/s]"
     ]
    },
    {
     "name": "stdout",
     "output_type": "stream",
     "text": [
      "|    | Human Capital - Our people               |   2023 |   2022 | 2021   | 2020   | LoA 2023   | Footnote   |\n",
      "|----|------------------------------------------|--------|--------|--------|--------|------------|------------|\n",
      "| 39 | Employee and service provider fatalities |      2 |      4 |        |        |            |            |\n"
     ]
    },
    {
     "name": "stderr",
     "output_type": "stream",
     "text": [
      "\n"
     ]
    }
   ],
   "source": [
    "# Testing the retriever\n",
    "\n",
    "# Try the Retriever\n",
    "retrieved_tables = retriever.retrieve(\"What was the Number of fatalities spend in the year 2023?\", top_k=3)\n",
    "\n",
    "# Get highest scored table\n",
    "print(retrieved_tables[1].content)"
   ]
  },
  {
   "cell_type": "code",
   "execution_count": 329,
   "metadata": {},
   "outputs": [],
   "source": [
    "rag_prompt = PromptTemplate(\n",
    "    prompt=\"\"\"Use the following pieces of context to answer the question at the end.\n",
    "              The context may be text or a markdown table.\n",
    "              Just retrieve the answer from the context. Please don't do any unit conversion.\n",
    "              If you don't know the answer, please return 'None' for the answer and unit.\n",
    "              Do not return any words other than 'Answer' and 'Unit' in the answer.\n",
    "              Please return the answer in the format 'Answer: <number or None>, Unit: <unit or None>'.\n",
    "\n",
    "              \\n\\n Context: {join(documents)} \\n\\n Question: {query} \\n\\n Answer:\"\"\",\n",
    "    output_parser=AnswerParser(),\n",
    ")\n",
    "\n",
    "generation_node = PromptNode(\n",
    "    model_name_or_path=\"gpt-3.5-turbo-1106\",\n",
    "    api_key=OPENAI_API_KEY,\n",
    "    default_prompt_template=rag_prompt,\n",
    "    output_variable=\"generated_answer\",\n",
    "    model_kwargs={\"temperature\": 0}  # It doesn't seem that the `temperature` parameter is having any effect. Seems like a bug. Might work in haystack 2.0.\n",
    ")"
   ]
  },
  {
   "cell_type": "code",
   "execution_count": 330,
   "metadata": {},
   "outputs": [],
   "source": [
    "class GeneratedAnswerParser(BaseComponent):\n",
    "    \"\"\"\n",
    "    Parse the output returned by the generation node.\n",
    "\n",
    "    The output is expected to be in the format \"Answer: <number or None>, Unit: <unit or None>\".\n",
    "    \"\"\"\n",
    "    outgoing_edges = 1\n",
    "\n",
    "    def run(self, generated_answer):\n",
    "        \"\"\"\n",
    "        Parse the output returned by the generation node.\n",
    "\n",
    "        The output is expected to be in the format \"Answer: <number or None>, Unit: <unit or None>\".\n",
    "\n",
    "        Parameters\n",
    "        ----------\n",
    "        generated : list[Answer]\n",
    "            The output returned by the generation node.\n",
    "\n",
    "        Returns\n",
    "        -------\n",
    "        dict\n",
    "            A dictionary containing the answer and unit.\n",
    "        \"\"\"\n",
    "        output = generated_answer[0].answer\n",
    "\n",
    "        answer, unit = output.split(\", \")\n",
    "        answer = answer.split(\": \")[1]\n",
    "        unit = unit.split(\": \")[1]\n",
    "\n",
    "        if answer == \"None\":\n",
    "            answer = None\n",
    "        else:\n",
    "            answer = answer.replace(\" \", \"\")\n",
    "            answer = answer.replace(\",\", \"\")\n",
    "            answer = int(answer)\n",
    "\n",
    "        return {\"answer\": answer, \"unit\": unit}, \"output_1\"\n",
    "\n",
    "    def run_batch(self, **kwargs):\n",
    "        # TODO: Implement batch processing.\n",
    "        pass"
   ]
  },
  {
   "cell_type": "code",
   "execution_count": 331,
   "metadata": {},
   "outputs": [],
   "source": [
    "gen_parser = GeneratedAnswerParser()"
   ]
  },
  {
   "cell_type": "code",
   "execution_count": 332,
   "metadata": {},
   "outputs": [
    {
     "data": {
      "text/plain": [
       "['1240000']"
      ]
     },
     "execution_count": 332,
     "metadata": {},
     "output_type": "execute_result"
    }
   ],
   "source": [
    "# Unit conversion. TODO: Move\n",
    "\n",
    "def create_unit_conversion_prompt(value, unit, target_unit):\n",
    "    prompt=f\"\"\"You are an expert unit converter. You are aware of how to convert\n",
    "    between different units within the same system of measurement.\n",
    "    For example, 1236 million = 1236 * 1 million = 1236 * 1000000 = 1236000000.\n",
    "    For example, to convert from Rm to R, you would multiply by 1000000. This is because\n",
    "    1 Rm = 1000000 R.\n",
    "    Please return a single number as your answer. Do not elaborate or give\n",
    "    any context.\\n\\n\n",
    "\n",
    "    What is {value} {unit} in {target_unit}? \\n\\n Answer:\"\"\"\n",
    "\n",
    "    return prompt\n",
    "\n",
    "\n",
    "unit_conversion_node = PromptNode(\n",
    "    model_name_or_path=\"gpt-3.5-turbo\",\n",
    "    api_key=OPENAI_API_KEY,\n",
    "    model_kwargs={\"temperature\": 0}  # It doesn't seem that the `temperature` parameter is having any effect. Seems like a bug. Might work in haystack 2.0.\n",
    ")\n",
    "\n",
    "query = create_unit_conversion_prompt(1.24, \"Rm\", \"R\")\n",
    "\n",
    "unit_conversion_node(query)"
   ]
  },
  {
   "cell_type": "code",
   "execution_count": 333,
   "metadata": {},
   "outputs": [],
   "source": [
    "querying_pipeline = Pipeline()\n",
    "querying_pipeline.add_node(component=retriever, name=\"retriever\", inputs=[\"Query\"])\n",
    "querying_pipeline.add_node(component=generation_node, name=\"prompt_node\", inputs=[\"retriever\"])\n",
    "querying_pipeline.add_node(component=gen_parser, name=\"gen_parser\", inputs=[\"prompt_node\"])"
   ]
  },
  {
   "cell_type": "code",
   "execution_count": 334,
   "metadata": {},
   "outputs": [
    {
     "name": "stderr",
     "output_type": "stream",
     "text": [
      "Batches: 100%|██████████| 1/1 [00:00<00:00, 43.58it/s]\n"
     ]
    },
    {
     "name": "stdout",
     "output_type": "stream",
     "text": [
      "Answer: 28500, Unit: Rm\n"
     ]
    }
   ],
   "source": [
    "output = querying_pipeline.run(\n",
    "    query=\"What was the Black women-owned spend in the year 2023?\",\n",
    "    params={\n",
    "        \"retriever\": {\"debug\": True},\n",
    "        \"prompt_node\": {\"debug\": True},\n",
    "        \"gen_parser\": {\"debug\": True},\n",
    "    }\n",
    ")\n",
    "\n",
    "print(f\"Answer: {output['answer']}, Unit: {output['unit']}\")"
   ]
  },
  {
   "cell_type": "code",
   "execution_count": 335,
   "metadata": {},
   "outputs": [
    {
     "data": {
      "text/plain": [
       "{'retriever': {'input': {'root_node': 'Query',\n",
       "   'query': 'What was the Black women-owned spend in the year 2023?',\n",
       "   'debug': True},\n",
       "  'output': {'documents': [<Document: {'content': '|    | Sasol in Society - Spend   | 2023 - Rm   | 2022 - Rm   | 2021 - Rm   | 2020 - Rm   | LOA 2023   | Footnote   |\\n|----|----------------------------|-------------|-------------|-------------|-------------|------------|------------|\\n| 17 | Black-owned women spend    | 28 500      | 21 600      | 15 800      |             |            |            |', 'content_type': 'text', 'score': 0.5013344378378155, 'meta': {'preceding_context': 'DATA AND ASSURANCE\\nANNEXURES\\nPERFORMANCE DATA CONTINUED', 'following_context': 'Secunda\\n13 903\\n14 399', 'page': 1}, 'id_hash_keys': ['content'], 'embedding': None, 'id': 'c85916ccc6c6e24864bdb9db90b6f143'}>,\n",
       "    <Document: {'content': '|    | Human Capital - Our people                | 2023   |   2022 |   2021 | 2020   | LoA 2023   |   Footnote |\\n|----|-------------------------------------------|--------|--------|--------|--------|------------|------------|\\n| 52 | Investment in black employees (R million) | 724,64 |    698 |    884 | 748,00 |            |          6 |', 'content_type': 'text', 'score': 0.5013327282397535, 'meta': {'preceding_context': '- Significant fires, explosions and releases\\n2\\n6', 'following_context': '- Major fires, explosions and releases\\n-\\n-', 'page': 2}, 'id_hash_keys': ['content'], 'embedding': None, 'id': 'ad9e935dda72423edad23396d1eaa0d6'}>,\n",
       "    <Document: {'content': '|    | Natural Capital - Our environment      |   2023 |   2022 |   2021 |   2020 | LoA 2023   | Footnote   |\\n|----|----------------------------------------|--------|--------|--------|--------|------------|------------|\\n| 54 | Broad-Based Black Economic Empowerment |   2023 |   2022 |   2021 |   2020 |            |            |', 'content_type': 'text', 'score': 0.5012985179437183, 'meta': {'preceding_context': 'Mozambique\\nOther strategic business units and Functions\\n2,32', 'following_context': 'CHEMICALS\\n290\\n290,00', 'page': 1}, 'id_hash_keys': ['content'], 'embedding': None, 'id': '6babb8eee47d41beb161d288d6a77565'}>,\n",
       "    <Document: {'content': '|    | Human Capital - Our people   |   2023 |   2022 | 2021   | 2020   | LoA 2023   | Footnote   |\\n|----|------------------------------|--------|--------|--------|--------|------------|------------|\\n|  9 | ENERGY                       |    255 |    325 |        |        |            |            |', 'content_type': 'text', 'score': 0.5009549932489866, 'meta': {'preceding_context': '- Significant fires, explosions and releases\\n2\\n6', 'following_context': '- Major fires, explosions and releases\\n-\\n-', 'page': 2}, 'id_hash_keys': ['content'], 'embedding': None, 'id': 'cfc2d04de0f2ec49a2efe7d72dd18b1d'}>,\n",
       "    <Document: {'content': '|    | Human Capital - Our people   | 2023   | 2022   | 2021   | 2020   | LoA 2023   | Footnote   |\\n|----|------------------------------|--------|--------|--------|--------|------------|------------|\\n| 23 | ENERGY                       |        |        |        |        |            |            |', 'content_type': 'text', 'score': 0.5009229371645236, 'meta': {'preceding_context': 'ANNEXURES\\nINTRODUCTION\\nPERFORMANCE DATA', 'following_context': '0,38\\n0,35\\n- Service provider', 'page': 2}, 'id_hash_keys': ['content'], 'embedding': None, 'id': '208eadb302e0ed31e360aeb5a2ce5317'}>]},\n",
       "  'exec_time_ms': 51.66},\n",
       " 'prompt_node': {'input': {'documents': [<Document: {'content': '|    | Sasol in Society - Spend   | 2023 - Rm   | 2022 - Rm   | 2021 - Rm   | 2020 - Rm   | LOA 2023   | Footnote   |\\n|----|----------------------------|-------------|-------------|-------------|-------------|------------|------------|\\n| 17 | Black-owned women spend    | 28 500      | 21 600      | 15 800      |             |            |            |', 'content_type': 'text', 'score': 0.5013344378378155, 'meta': {'preceding_context': 'DATA AND ASSURANCE\\nANNEXURES\\nPERFORMANCE DATA CONTINUED', 'following_context': 'Secunda\\n13 903\\n14 399', 'page': 1}, 'id_hash_keys': ['content'], 'embedding': None, 'id': 'c85916ccc6c6e24864bdb9db90b6f143'}>,\n",
       "    <Document: {'content': '|    | Human Capital - Our people                | 2023   |   2022 |   2021 | 2020   | LoA 2023   |   Footnote |\\n|----|-------------------------------------------|--------|--------|--------|--------|------------|------------|\\n| 52 | Investment in black employees (R million) | 724,64 |    698 |    884 | 748,00 |            |          6 |', 'content_type': 'text', 'score': 0.5013327282397535, 'meta': {'preceding_context': '- Significant fires, explosions and releases\\n2\\n6', 'following_context': '- Major fires, explosions and releases\\n-\\n-', 'page': 2}, 'id_hash_keys': ['content'], 'embedding': None, 'id': 'ad9e935dda72423edad23396d1eaa0d6'}>,\n",
       "    <Document: {'content': '|    | Natural Capital - Our environment      |   2023 |   2022 |   2021 |   2020 | LoA 2023   | Footnote   |\\n|----|----------------------------------------|--------|--------|--------|--------|------------|------------|\\n| 54 | Broad-Based Black Economic Empowerment |   2023 |   2022 |   2021 |   2020 |            |            |', 'content_type': 'text', 'score': 0.5012985179437183, 'meta': {'preceding_context': 'Mozambique\\nOther strategic business units and Functions\\n2,32', 'following_context': 'CHEMICALS\\n290\\n290,00', 'page': 1}, 'id_hash_keys': ['content'], 'embedding': None, 'id': '6babb8eee47d41beb161d288d6a77565'}>,\n",
       "    <Document: {'content': '|    | Human Capital - Our people   |   2023 |   2022 | 2021   | 2020   | LoA 2023   | Footnote   |\\n|----|------------------------------|--------|--------|--------|--------|------------|------------|\\n|  9 | ENERGY                       |    255 |    325 |        |        |            |            |', 'content_type': 'text', 'score': 0.5009549932489866, 'meta': {'preceding_context': '- Significant fires, explosions and releases\\n2\\n6', 'following_context': '- Major fires, explosions and releases\\n-\\n-', 'page': 2}, 'id_hash_keys': ['content'], 'embedding': None, 'id': 'cfc2d04de0f2ec49a2efe7d72dd18b1d'}>,\n",
       "    <Document: {'content': '|    | Human Capital - Our people   | 2023   | 2022   | 2021   | 2020   | LoA 2023   | Footnote   |\\n|----|------------------------------|--------|--------|--------|--------|------------|------------|\\n| 23 | ENERGY                       |        |        |        |        |            |            |', 'content_type': 'text', 'score': 0.5009229371645236, 'meta': {'preceding_context': 'ANNEXURES\\nINTRODUCTION\\nPERFORMANCE DATA', 'following_context': '0,38\\n0,35\\n- Service provider', 'page': 2}, 'id_hash_keys': ['content'], 'embedding': None, 'id': '208eadb302e0ed31e360aeb5a2ce5317'}>],\n",
       "   'query': 'What was the Black women-owned spend in the year 2023?',\n",
       "   'debug': True},\n",
       "  'output': {'generated_answer': [<Answer {'answer': 'Answer: 28 500, Unit: Rm', 'type': 'generative', 'score': None, 'context': None, 'offsets_in_document': None, 'offsets_in_context': None, 'document_ids': ['c85916ccc6c6e24864bdb9db90b6f143', 'ad9e935dda72423edad23396d1eaa0d6', '6babb8eee47d41beb161d288d6a77565', 'cfc2d04de0f2ec49a2efe7d72dd18b1d', '208eadb302e0ed31e360aeb5a2ce5317'], 'meta': {'prompt': \"Use the following pieces of context to answer the question at the end.\\n              The context may be text or a markdown table.\\n              Just retrieve the answer from the context. Please don't do any unit conversion.\\n              If you don't know the answer, please return 'None' for the answer and unit.\\n              Do not return any words other than 'Answer' and 'Unit' in the answer.\\n              Please return the answer in the format 'Answer: <number or None>, Unit: <unit or None>'.\\n\\n              \\n\\n Context: |    | Sasol in Society - Spend   | 2023 - Rm   | 2022 - Rm   | 2021 - Rm   | 2020 - Rm   | LOA 2023   | Footnote   |\\n|----|----------------------------|-------------|-------------|-------------|-------------|------------|------------|\\n| 17 | Black-owned women spend    | 28 500      | 21 600      | 15 800      |             |            |            | |    | Human Capital - Our people                | 2023   |   2022 |   2021 | 2020   | LoA 2023   |   Footnote |\\n|----|-------------------------------------------|--------|--------|--------|--------|------------|------------|\\n| 52 | Investment in black employees (R million) | 724,64 |    698 |    884 | 748,00 |            |          6 | |    | Natural Capital - Our environment      |   2023 |   2022 |   2021 |   2020 | LoA 2023   | Footnote   |\\n|----|----------------------------------------|--------|--------|--------|--------|------------|------------|\\n| 54 | Broad-Based Black Economic Empowerment |   2023 |   2022 |   2021 |   2020 |            |            | |    | Human Capital - Our people   |   2023 |   2022 | 2021   | 2020   | LoA 2023   | Footnote   |\\n|----|------------------------------|--------|--------|--------|--------|------------|------------|\\n|  9 | ENERGY                       |    255 |    325 |        |        |            |            | |    | Human Capital - Our people   | 2023   | 2022   | 2021   | 2020   | LoA 2023   | Footnote   |\\n|----|------------------------------|--------|--------|--------|--------|------------|------------|\\n| 23 | ENERGY                       |        |        |        |        |            |            | \\n\\n Question: What was the Black women-owned spend in the year 2023? \\n\\n Answer:\"}}>],\n",
       "   'invocation_context': {'query': 'What was the Black women-owned spend in the year 2023?',\n",
       "    'documents': [<Document: {'content': '|    | Sasol in Society - Spend   | 2023 - Rm   | 2022 - Rm   | 2021 - Rm   | 2020 - Rm   | LOA 2023   | Footnote   |\\n|----|----------------------------|-------------|-------------|-------------|-------------|------------|------------|\\n| 17 | Black-owned women spend    | 28 500      | 21 600      | 15 800      |             |            |            |', 'content_type': 'text', 'score': 0.5013344378378155, 'meta': {'preceding_context': 'DATA AND ASSURANCE\\nANNEXURES\\nPERFORMANCE DATA CONTINUED', 'following_context': 'Secunda\\n13 903\\n14 399', 'page': 1}, 'id_hash_keys': ['content'], 'embedding': None, 'id': 'c85916ccc6c6e24864bdb9db90b6f143'}>,\n",
       "     <Document: {'content': '|    | Human Capital - Our people                | 2023   |   2022 |   2021 | 2020   | LoA 2023   |   Footnote |\\n|----|-------------------------------------------|--------|--------|--------|--------|------------|------------|\\n| 52 | Investment in black employees (R million) | 724,64 |    698 |    884 | 748,00 |            |          6 |', 'content_type': 'text', 'score': 0.5013327282397535, 'meta': {'preceding_context': '- Significant fires, explosions and releases\\n2\\n6', 'following_context': '- Major fires, explosions and releases\\n-\\n-', 'page': 2}, 'id_hash_keys': ['content'], 'embedding': None, 'id': 'ad9e935dda72423edad23396d1eaa0d6'}>,\n",
       "     <Document: {'content': '|    | Natural Capital - Our environment      |   2023 |   2022 |   2021 |   2020 | LoA 2023   | Footnote   |\\n|----|----------------------------------------|--------|--------|--------|--------|------------|------------|\\n| 54 | Broad-Based Black Economic Empowerment |   2023 |   2022 |   2021 |   2020 |            |            |', 'content_type': 'text', 'score': 0.5012985179437183, 'meta': {'preceding_context': 'Mozambique\\nOther strategic business units and Functions\\n2,32', 'following_context': 'CHEMICALS\\n290\\n290,00', 'page': 1}, 'id_hash_keys': ['content'], 'embedding': None, 'id': '6babb8eee47d41beb161d288d6a77565'}>,\n",
       "     <Document: {'content': '|    | Human Capital - Our people   |   2023 |   2022 | 2021   | 2020   | LoA 2023   | Footnote   |\\n|----|------------------------------|--------|--------|--------|--------|------------|------------|\\n|  9 | ENERGY                       |    255 |    325 |        |        |            |            |', 'content_type': 'text', 'score': 0.5009549932489866, 'meta': {'preceding_context': '- Significant fires, explosions and releases\\n2\\n6', 'following_context': '- Major fires, explosions and releases\\n-\\n-', 'page': 2}, 'id_hash_keys': ['content'], 'embedding': None, 'id': 'cfc2d04de0f2ec49a2efe7d72dd18b1d'}>,\n",
       "     <Document: {'content': '|    | Human Capital - Our people   | 2023   | 2022   | 2021   | 2020   | LoA 2023   | Footnote   |\\n|----|------------------------------|--------|--------|--------|--------|------------|------------|\\n| 23 | ENERGY                       |        |        |        |        |            |            |', 'content_type': 'text', 'score': 0.5009229371645236, 'meta': {'preceding_context': 'ANNEXURES\\nINTRODUCTION\\nPERFORMANCE DATA', 'following_context': '0,38\\n0,35\\n- Service provider', 'page': 2}, 'id_hash_keys': ['content'], 'embedding': None, 'id': '208eadb302e0ed31e360aeb5a2ce5317'}>],\n",
       "    'generated_answer': [<Answer {'answer': 'Answer: 28 500, Unit: Rm', 'type': 'generative', 'score': None, 'context': None, 'offsets_in_document': None, 'offsets_in_context': None, 'document_ids': ['c85916ccc6c6e24864bdb9db90b6f143', 'ad9e935dda72423edad23396d1eaa0d6', '6babb8eee47d41beb161d288d6a77565', 'cfc2d04de0f2ec49a2efe7d72dd18b1d', '208eadb302e0ed31e360aeb5a2ce5317'], 'meta': {'prompt': \"Use the following pieces of context to answer the question at the end.\\n              The context may be text or a markdown table.\\n              Just retrieve the answer from the context. Please don't do any unit conversion.\\n              If you don't know the answer, please return 'None' for the answer and unit.\\n              Do not return any words other than 'Answer' and 'Unit' in the answer.\\n              Please return the answer in the format 'Answer: <number or None>, Unit: <unit or None>'.\\n\\n              \\n\\n Context: |    | Sasol in Society - Spend   | 2023 - Rm   | 2022 - Rm   | 2021 - Rm   | 2020 - Rm   | LOA 2023   | Footnote   |\\n|----|----------------------------|-------------|-------------|-------------|-------------|------------|------------|\\n| 17 | Black-owned women spend    | 28 500      | 21 600      | 15 800      |             |            |            | |    | Human Capital - Our people                | 2023   |   2022 |   2021 | 2020   | LoA 2023   |   Footnote |\\n|----|-------------------------------------------|--------|--------|--------|--------|------------|------------|\\n| 52 | Investment in black employees (R million) | 724,64 |    698 |    884 | 748,00 |            |          6 | |    | Natural Capital - Our environment      |   2023 |   2022 |   2021 |   2020 | LoA 2023   | Footnote   |\\n|----|----------------------------------------|--------|--------|--------|--------|------------|------------|\\n| 54 | Broad-Based Black Economic Empowerment |   2023 |   2022 |   2021 |   2020 |            |            | |    | Human Capital - Our people   |   2023 |   2022 | 2021   | 2020   | LoA 2023   | Footnote   |\\n|----|------------------------------|--------|--------|--------|--------|------------|------------|\\n|  9 | ENERGY                       |    255 |    325 |        |        |            |            | |    | Human Capital - Our people   | 2023   | 2022   | 2021   | 2020   | LoA 2023   | Footnote   |\\n|----|------------------------------|--------|--------|--------|--------|------------|------------|\\n| 23 | ENERGY                       |        |        |        |        |            |            | \\n\\n Question: What was the Black women-owned spend in the year 2023? \\n\\n Answer:\"}}>],\n",
       "    'prompts': [\"Use the following pieces of context to answer the question at the end.\\n              The context may be text or a markdown table.\\n              Just retrieve the answer from the context. Please don't do any unit conversion.\\n              If you don't know the answer, please return 'None' for the answer and unit.\\n              Do not return any words other than 'Answer' and 'Unit' in the answer.\\n              Please return the answer in the format 'Answer: <number or None>, Unit: <unit or None>'.\\n\\n              \\n\\n Context: |    | Sasol in Society - Spend   | 2023 - Rm   | 2022 - Rm   | 2021 - Rm   | 2020 - Rm   | LOA 2023   | Footnote   |\\n|----|----------------------------|-------------|-------------|-------------|-------------|------------|------------|\\n| 17 | Black-owned women spend    | 28 500      | 21 600      | 15 800      |             |            |            | |    | Human Capital - Our people                | 2023   |   2022 |   2021 | 2020   | LoA 2023   |   Footnote |\\n|----|-------------------------------------------|--------|--------|--------|--------|------------|------------|\\n| 52 | Investment in black employees (R million) | 724,64 |    698 |    884 | 748,00 |            |          6 | |    | Natural Capital - Our environment      |   2023 |   2022 |   2021 |   2020 | LoA 2023   | Footnote   |\\n|----|----------------------------------------|--------|--------|--------|--------|------------|------------|\\n| 54 | Broad-Based Black Economic Empowerment |   2023 |   2022 |   2021 |   2020 |            |            | |    | Human Capital - Our people   |   2023 |   2022 | 2021   | 2020   | LoA 2023   | Footnote   |\\n|----|------------------------------|--------|--------|--------|--------|------------|------------|\\n|  9 | ENERGY                       |    255 |    325 |        |        |            |            | |    | Human Capital - Our people   | 2023   | 2022   | 2021   | 2020   | LoA 2023   | Footnote   |\\n|----|------------------------------|--------|--------|--------|--------|------------|------------|\\n| 23 | ENERGY                       |        |        |        |        |            |            | \\n\\n Question: What was the Black women-owned spend in the year 2023? \\n\\n Answer:\"]}},\n",
       "  'runtime': {'prompts_used': [\"Use the following pieces of context to answer the question at the end.\\n              The context may be text or a markdown table.\\n              Just retrieve the answer from the context. Please don't do any unit conversion.\\n              If you don't know the answer, please return 'None' for the answer and unit.\\n              Do not return any words other than 'Answer' and 'Unit' in the answer.\\n              Please return the answer in the format 'Answer: <number or None>, Unit: <unit or None>'.\\n\\n              \\n\\n Context: |    | Sasol in Society - Spend   | 2023 - Rm   | 2022 - Rm   | 2021 - Rm   | 2020 - Rm   | LOA 2023   | Footnote   |\\n|----|----------------------------|-------------|-------------|-------------|-------------|------------|------------|\\n| 17 | Black-owned women spend    | 28 500      | 21 600      | 15 800      |             |            |            | |    | Human Capital - Our people                | 2023   |   2022 |   2021 | 2020   | LoA 2023   |   Footnote |\\n|----|-------------------------------------------|--------|--------|--------|--------|------------|------------|\\n| 52 | Investment in black employees (R million) | 724,64 |    698 |    884 | 748,00 |            |          6 | |    | Natural Capital - Our environment      |   2023 |   2022 |   2021 |   2020 | LoA 2023   | Footnote   |\\n|----|----------------------------------------|--------|--------|--------|--------|------------|------------|\\n| 54 | Broad-Based Black Economic Empowerment |   2023 |   2022 |   2021 |   2020 |            |            | |    | Human Capital - Our people   |   2023 |   2022 | 2021   | 2020   | LoA 2023   | Footnote   |\\n|----|------------------------------|--------|--------|--------|--------|------------|------------|\\n|  9 | ENERGY                       |    255 |    325 |        |        |            |            | |    | Human Capital - Our people   | 2023   | 2022   | 2021   | 2020   | LoA 2023   | Footnote   |\\n|----|------------------------------|--------|--------|--------|--------|------------|------------|\\n| 23 | ENERGY                       |        |        |        |        |            |            | \\n\\n Question: What was the Black women-owned spend in the year 2023? \\n\\n Answer:\"]},\n",
       "  'exec_time_ms': 654.61},\n",
       " 'gen_parser': {'input': {'generated_answer': [<Answer {'answer': 'Answer: 28 500, Unit: Rm', 'type': 'generative', 'score': None, 'context': None, 'offsets_in_document': None, 'offsets_in_context': None, 'document_ids': ['c85916ccc6c6e24864bdb9db90b6f143', 'ad9e935dda72423edad23396d1eaa0d6', '6babb8eee47d41beb161d288d6a77565', 'cfc2d04de0f2ec49a2efe7d72dd18b1d', '208eadb302e0ed31e360aeb5a2ce5317'], 'meta': {'prompt': \"Use the following pieces of context to answer the question at the end.\\n              The context may be text or a markdown table.\\n              Just retrieve the answer from the context. Please don't do any unit conversion.\\n              If you don't know the answer, please return 'None' for the answer and unit.\\n              Do not return any words other than 'Answer' and 'Unit' in the answer.\\n              Please return the answer in the format 'Answer: <number or None>, Unit: <unit or None>'.\\n\\n              \\n\\n Context: |    | Sasol in Society - Spend   | 2023 - Rm   | 2022 - Rm   | 2021 - Rm   | 2020 - Rm   | LOA 2023   | Footnote   |\\n|----|----------------------------|-------------|-------------|-------------|-------------|------------|------------|\\n| 17 | Black-owned women spend    | 28 500      | 21 600      | 15 800      |             |            |            | |    | Human Capital - Our people                | 2023   |   2022 |   2021 | 2020   | LoA 2023   |   Footnote |\\n|----|-------------------------------------------|--------|--------|--------|--------|------------|------------|\\n| 52 | Investment in black employees (R million) | 724,64 |    698 |    884 | 748,00 |            |          6 | |    | Natural Capital - Our environment      |   2023 |   2022 |   2021 |   2020 | LoA 2023   | Footnote   |\\n|----|----------------------------------------|--------|--------|--------|--------|------------|------------|\\n| 54 | Broad-Based Black Economic Empowerment |   2023 |   2022 |   2021 |   2020 |            |            | |    | Human Capital - Our people   |   2023 |   2022 | 2021   | 2020   | LoA 2023   | Footnote   |\\n|----|------------------------------|--------|--------|--------|--------|------------|------------|\\n|  9 | ENERGY                       |    255 |    325 |        |        |            |            | |    | Human Capital - Our people   | 2023   | 2022   | 2021   | 2020   | LoA 2023   | Footnote   |\\n|----|------------------------------|--------|--------|--------|--------|------------|------------|\\n| 23 | ENERGY                       |        |        |        |        |            |            | \\n\\n Question: What was the Black women-owned spend in the year 2023? \\n\\n Answer:\"}}>],\n",
       "   'debug': True},\n",
       "  'output': {'answer': 28500, 'unit': 'Rm'},\n",
       "  'exec_time_ms': 0.13}}"
      ]
     },
     "execution_count": 335,
     "metadata": {},
     "output_type": "execute_result"
    }
   ],
   "source": [
    "# TODO: Write function to convert the answer to a more human-readable format.\n",
    "# In particular, the markdown tables aren't very readable as a single line of text.\n",
    "\n",
    "output[\"_debug\"]"
   ]
  },
  {
   "cell_type": "markdown",
   "metadata": {},
   "source": [
    "The `gpt-3.5-turbo` model has a context window of 4,096 tokens. As a result, my prompt is often\n",
    "being truncated so that the prompt length and answer length (100 tokens) fit within the max token\n",
    "limit. The updated GPT-3.5 model (`gpt-3.5-turbo-0125`) has a larger context window of \n",
    "16,385 tokens. Would be good to use this, if possible (may require using haystack 2.0)\n",
    "The slightly older GPT-3.5 model `gpt-3.5-turbo-1106` has a larger context window and is available \n",
    "with haystack 1.0. I'll use this for now."
   ]
  },
  {
   "cell_type": "code",
   "execution_count": 336,
   "metadata": {},
   "outputs": [
    {
     "name": "stderr",
     "output_type": "stream",
     "text": [
      "Batches: 100%|██████████| 1/1 [00:00<00:00, 84.70it/s]\n"
     ]
    },
    {
     "name": "stdout",
     "output_type": "stream",
     "text": [
      "4\n",
      "None\n"
     ]
    }
   ],
   "source": [
    "output = querying_pipeline.run(\n",
    "    query=\"What was the B-BBEE status in the year 2021? Do not include the word 'Level' in the answer.\",\n",
    "    params={\n",
    "        \"retriever\": {\"debug\": True},\n",
    "        \"prompt_node\": {\"debug\": True},\n",
    "        \"gen_parser\": {\"debug\": True},\n",
    "    }\n",
    ")\n",
    "\n",
    "print(output['answer'])\n",
    "print(output['unit'])"
   ]
  },
  {
   "cell_type": "markdown",
   "metadata": {},
   "source": [
    "Need to be smarter when parsing the output from the model. When retrieving the B-BBEE status\n",
    "the model consistently returns 'Level 3' (and not just 3). Could guardrails be used? Alternatively, appending 'Do not include the word 'Level' in the answer.' to the query also solves the \n",
    "issue. "
   ]
  },
  {
   "cell_type": "code",
   "execution_count": 337,
   "metadata": {},
   "outputs": [
    {
     "name": "stderr",
     "output_type": "stream",
     "text": [
      "Batches: 100%|██████████| 1/1 [00:00<00:00, 98.70it/s]\n"
     ]
    },
    {
     "name": "stdout",
     "output_type": "stream",
     "text": [
      "3869\n",
      "None\n"
     ]
    }
   ],
   "source": [
    "output = querying_pipeline.run(\n",
    "    query=\"What was the Employee turnover in the year 2021?\",\n",
    "    params={\n",
    "        \"retriever\": {\"debug\": True},\n",
    "        \"prompt_node\": {\"debug\": True},\n",
    "        \"gen_parser\": {\"debug\": True},\n",
    "    }\n",
    ")\n",
    "\n",
    "print(output['answer'])\n",
    "print(output['unit'])"
   ]
  },
  {
   "cell_type": "markdown",
   "metadata": {},
   "source": [
    "Should there be two pipelines - one for queries which may require unit conversion,\n",
    "and another for queries that don't? For example, when retrieving the employee turnover,\n",
    "the unit should always be 'None'. So why ask the model to try and retrieve this - want \n",
    "to make it easier for the model when possible."
   ]
  },
  {
   "cell_type": "code",
   "execution_count": 93,
   "metadata": {},
   "outputs": [
    {
     "name": "stderr",
     "output_type": "stream",
     "text": [
      "/home/tomw/miniconda3/envs/haystack/lib/python3.10/site-packages/haystack/pipelines/base.py:2135: ResourceWarning: unclosed file <_io.BufferedRandom name='pipeline.png'>\n",
      "  graphviz.draw(path)\n",
      "ResourceWarning: Enable tracemalloc to get the object allocation traceback\n"
     ]
    }
   ],
   "source": [
    "querying_pipeline.draw()"
   ]
  },
  {
   "cell_type": "markdown",
   "metadata": {},
   "source": [
    "Working very well. Only issue I have seen so far is not being able to answer \"What was the \n",
    "GHG Scope 2 emissions in the year 2021?\". "
   ]
  },
  {
   "cell_type": "markdown",
   "metadata": {},
   "source": [
    "**TODO:** Add to querying pipeline a step to parse the returned output 'Answer: <>, Unit: <>'\n",
    "to a single number. For cases where 'Unit' is not `None`, this will likely involve another\n",
    "`PromptNode` to do the conversion."
   ]
  },
  {
   "cell_type": "markdown",
   "metadata": {},
   "source": [
    "## Validation of querying pipeline"
   ]
  },
  {
   "cell_type": "code",
   "execution_count": 338,
   "metadata": {},
   "outputs": [],
   "source": [
    "import pandas as pd\n",
    "\n",
    "VALIDATION_FILE = Path(\"/home/tomw/unifi-pdf-llm/data/validate/rag_esg_metric_validation.csv\")"
   ]
  },
  {
   "cell_type": "code",
   "execution_count": 339,
   "metadata": {},
   "outputs": [],
   "source": [
    "def validate_rag(querying_pipeline: Pipeline):\n",
    "    validation_df = pd.read_csv(VALIDATION_FILE)\n",
    "    results_df = validation_df.copy(deep=True)\n",
    "\n",
    "    # Add row to results_df for the generated answer\n",
    "    results_df[\"Generated\"] = None\n",
    "\n",
    "    for idx, row in validation_df.iterrows():\n",
    "        year = row[\"Year\"]\n",
    "        metric = row[\"Metric\"]\n",
    "        query = f\"What was the {metric} in the year {year}?\"\n",
    "\n",
    "        if metric in [\"B-BBEE status\", \"B-BBEE scorecard level\"]:\n",
    "            query += \" Do not include the word 'Level' in the answer.\"\n",
    "\n",
    "        output = querying_pipeline.run(query=query)\n",
    "        answer = output[\"answer\"]\n",
    "\n",
    "        results_df.at[idx, \"Generated\"] = answer\n",
    "\n",
    "    return results_df\n"
   ]
  },
  {
   "cell_type": "code",
   "execution_count": 340,
   "metadata": {},
   "outputs": [
    {
     "name": "stderr",
     "output_type": "stream",
     "text": [
      "Batches: 100%|██████████| 1/1 [00:00<00:00, 141.01it/s]\n",
      "Batches: 100%|██████████| 1/1 [00:00<00:00, 124.40it/s]\n",
      "Batches: 100%|██████████| 1/1 [00:00<00:00, 120.55it/s]\n",
      "Batches: 100%|██████████| 1/1 [00:00<00:00, 122.84it/s]\n",
      "Batches: 100%|██████████| 1/1 [00:00<00:00, 218.99it/s]\n",
      "Batches: 100%|██████████| 1/1 [00:00<00:00, 158.63it/s]\n",
      "Batches: 100%|██████████| 1/1 [00:00<00:00, 132.28it/s]\n",
      "Batches: 100%|██████████| 1/1 [00:00<00:00, 126.26it/s]\n"
     ]
    }
   ],
   "source": [
    "results = validate_rag(querying_pipeline)"
   ]
  },
  {
   "cell_type": "code",
   "execution_count": 341,
   "metadata": {},
   "outputs": [
    {
     "data": {
      "text/html": [
       "<div>\n",
       "<style scoped>\n",
       "    .dataframe tbody tr th:only-of-type {\n",
       "        vertical-align: middle;\n",
       "    }\n",
       "\n",
       "    .dataframe tbody tr th {\n",
       "        vertical-align: top;\n",
       "    }\n",
       "\n",
       "    .dataframe thead th {\n",
       "        text-align: right;\n",
       "    }\n",
       "</style>\n",
       "<table border=\"1\" class=\"dataframe\">\n",
       "  <thead>\n",
       "    <tr style=\"text-align: right;\">\n",
       "      <th></th>\n",
       "      <th>Company</th>\n",
       "      <th>Year</th>\n",
       "      <th>Metric</th>\n",
       "      <th>Unit</th>\n",
       "      <th>Source</th>\n",
       "      <th>Content Type</th>\n",
       "      <th>Page</th>\n",
       "      <th>Notes</th>\n",
       "      <th>Answer</th>\n",
       "      <th>Generated</th>\n",
       "    </tr>\n",
       "  </thead>\n",
       "  <tbody>\n",
       "    <tr>\n",
       "      <th>0</th>\n",
       "      <td>SASOL</td>\n",
       "      <td>2023</td>\n",
       "      <td>Number of permanent employees</td>\n",
       "      <td>NaN</td>\n",
       "      <td>SASOL Sustainability Report 2023 20-09_0.pdf</td>\n",
       "      <td>Table</td>\n",
       "      <td>17</td>\n",
       "      <td>May get confuesed with employee numbers in tab...</td>\n",
       "      <td>28657</td>\n",
       "      <td>28657</td>\n",
       "    </tr>\n",
       "    <tr>\n",
       "      <th>1</th>\n",
       "      <td>SASOL</td>\n",
       "      <td>2023</td>\n",
       "      <td>Employee turnover</td>\n",
       "      <td>NaN</td>\n",
       "      <td>SASOL Sustainability Report 2023 20-09_0.pdf</td>\n",
       "      <td>Text</td>\n",
       "      <td>18</td>\n",
       "      <td>NaN</td>\n",
       "      <td>1725</td>\n",
       "      <td>1725</td>\n",
       "    </tr>\n",
       "    <tr>\n",
       "      <th>2</th>\n",
       "      <td>SASOL</td>\n",
       "      <td>2023</td>\n",
       "      <td>B-BBEE status</td>\n",
       "      <td>NaN</td>\n",
       "      <td>SASOL Sustainability Report 2023 20-09_0.pdf</td>\n",
       "      <td>Table</td>\n",
       "      <td>57</td>\n",
       "      <td>NaN</td>\n",
       "      <td>3</td>\n",
       "      <td>3</td>\n",
       "    </tr>\n",
       "    <tr>\n",
       "      <th>3</th>\n",
       "      <td>SASOL</td>\n",
       "      <td>2023</td>\n",
       "      <td>B-BBEE scorecard level</td>\n",
       "      <td>NaN</td>\n",
       "      <td>SASOL Sustainability Report 2023 20-09_0.pdf</td>\n",
       "      <td>Table</td>\n",
       "      <td>57</td>\n",
       "      <td>NaN</td>\n",
       "      <td>3</td>\n",
       "      <td>3</td>\n",
       "    </tr>\n",
       "    <tr>\n",
       "      <th>4</th>\n",
       "      <td>SASOL</td>\n",
       "      <td>2023</td>\n",
       "      <td>Black women-owned spend</td>\n",
       "      <td>rand</td>\n",
       "      <td>SASOL Sustainability Report 2023 20-09_0.pdf</td>\n",
       "      <td>Text</td>\n",
       "      <td>11</td>\n",
       "      <td>May be retrieved from table. Requires conversi...</td>\n",
       "      <td>28500</td>\n",
       "      <td>28500</td>\n",
       "    </tr>\n",
       "    <tr>\n",
       "      <th>5</th>\n",
       "      <td>SASOL</td>\n",
       "      <td>2023</td>\n",
       "      <td>Black-owned spend</td>\n",
       "      <td>rand</td>\n",
       "      <td>SASOL Sustainability Report 2023 20-09_0.pdf</td>\n",
       "      <td>Text</td>\n",
       "      <td>11</td>\n",
       "      <td>Required conversion from million rand to rand</td>\n",
       "      <td>41700</td>\n",
       "      <td>41700</td>\n",
       "    </tr>\n",
       "    <tr>\n",
       "      <th>6</th>\n",
       "      <td>SASOL</td>\n",
       "      <td>2023</td>\n",
       "      <td>Number of fatalities</td>\n",
       "      <td>NaN</td>\n",
       "      <td>SASOL Sustainability Report 2023 20-09_0.pdf</td>\n",
       "      <td>Text</td>\n",
       "      <td>11</td>\n",
       "      <td>NaN</td>\n",
       "      <td>2</td>\n",
       "      <td>3</td>\n",
       "    </tr>\n",
       "    <tr>\n",
       "      <th>7</th>\n",
       "      <td>SASOL</td>\n",
       "      <td>2023</td>\n",
       "      <td>Number of undergraduate and postgraduate bursa...</td>\n",
       "      <td>NaN</td>\n",
       "      <td>SASOL Sustainability Report 2023 20-09_0.pdf</td>\n",
       "      <td>Text</td>\n",
       "      <td>18</td>\n",
       "      <td>NaN</td>\n",
       "      <td>544</td>\n",
       "      <td>544</td>\n",
       "    </tr>\n",
       "  </tbody>\n",
       "</table>\n",
       "</div>"
      ],
      "text/plain": [
       "  Company  Year                                             Metric  Unit  \\\n",
       "0   SASOL  2023                      Number of permanent employees   NaN   \n",
       "1   SASOL  2023                                  Employee turnover   NaN   \n",
       "2   SASOL  2023                                      B-BBEE status   NaN   \n",
       "3   SASOL  2023                             B-BBEE scorecard level   NaN   \n",
       "4   SASOL  2023                            Black women-owned spend  rand   \n",
       "5   SASOL  2023                                  Black-owned spend  rand   \n",
       "6   SASOL  2023                               Number of fatalities   NaN   \n",
       "7   SASOL  2023  Number of undergraduate and postgraduate bursa...   NaN   \n",
       "\n",
       "                                         Source Content Type  Page  \\\n",
       "0  SASOL Sustainability Report 2023 20-09_0.pdf        Table    17   \n",
       "1  SASOL Sustainability Report 2023 20-09_0.pdf         Text    18   \n",
       "2  SASOL Sustainability Report 2023 20-09_0.pdf        Table    57   \n",
       "3  SASOL Sustainability Report 2023 20-09_0.pdf        Table    57   \n",
       "4  SASOL Sustainability Report 2023 20-09_0.pdf         Text    11   \n",
       "5  SASOL Sustainability Report 2023 20-09_0.pdf         Text    11   \n",
       "6  SASOL Sustainability Report 2023 20-09_0.pdf         Text    11   \n",
       "7  SASOL Sustainability Report 2023 20-09_0.pdf         Text    18   \n",
       "\n",
       "                                               Notes  Answer Generated  \n",
       "0  May get confuesed with employee numbers in tab...   28657     28657  \n",
       "1                                                NaN    1725      1725  \n",
       "2                                                NaN       3         3  \n",
       "3                                                NaN       3         3  \n",
       "4  May be retrieved from table. Requires conversi...   28500     28500  \n",
       "5      Required conversion from million rand to rand   41700     41700  \n",
       "6                                                NaN       2         3  \n",
       "7                                                NaN     544       544  "
      ]
     },
     "execution_count": 341,
     "metadata": {},
     "output_type": "execute_result"
    }
   ],
   "source": [
    "results"
   ]
  },
  {
   "cell_type": "code",
   "execution_count": null,
   "metadata": {},
   "outputs": [],
   "source": []
  }
 ],
 "metadata": {
  "kernelspec": {
   "display_name": "haystack",
   "language": "python",
   "name": "python3"
  },
  "language_info": {
   "codemirror_mode": {
    "name": "ipython",
    "version": 3
   },
   "file_extension": ".py",
   "mimetype": "text/x-python",
   "name": "python",
   "nbconvert_exporter": "python",
   "pygments_lexer": "ipython3",
   "version": "3.10.13"
  }
 },
 "nbformat": 4,
 "nbformat_minor": 2
}
